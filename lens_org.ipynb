{
 "cells": [
  {
   "attachments": {},
   "cell_type": "markdown",
   "metadata": {},
   "source": [
    "# APIs and Datasets for Scholarly Publications "
   ]
  },
  {
   "attachments": {},
   "cell_type": "markdown",
   "metadata": {},
   "source": [
    "Using [lens.org](https://www.lens.org/) API for scholarly data."
   ]
  },
  {
   "attachments": {},
   "cell_type": "markdown",
   "metadata": {},
   "source": [
    "## Prerequisites\n",
    "\n",
    "1. Clone the [GitHub repository](https://github.com/kaust-library/using_lens_org): https://github.com/kaust-library/using_lens_org\n",
    "1. Create your virtual environment: `python -m venv venv`.\n",
    "1. Activate your environment: `. .\\venv\\Scripts\\activate`. (Windows platform).\n",
    "1. Install the required packages: `pip install -r requirements.txt`."
   ]
  },
  {
   "attachments": {},
   "cell_type": "markdown",
   "metadata": {},
   "source": [
    "## Loading the Packages and Env File"
   ]
  },
  {
   "attachments": {},
   "cell_type": "markdown",
   "metadata": {},
   "source": [
    "Load the packages"
   ]
  },
  {
   "cell_type": "code",
   "execution_count": 1,
   "metadata": {},
   "outputs": [],
   "source": [
    "import dotenv as DE\n",
    "import os as OS\n",
    "import requests as RQ\n",
    "import pprint as PP\n",
    "import json as JN\n",
    "import csv as CSV"
   ]
  },
  {
   "attachments": {},
   "cell_type": "markdown",
   "metadata": {},
   "source": [
    "You may need to create a `.env` file with your _token_ on _root_ directory of your project\n",
    "\n",
    "```\n",
    "(venv) PS C:\\Users\\garcm0b\\Work\\lens_org> cat .env\n",
    "MY_TOKEN=(...)\n",
    "(venv) PS C:\\Users\\garcm0b\\Work\\lens_org>\n",
    "```\n",
    "\n",
    "Make sure that your `.env` file is in the `.gitignore` file, so we will not upload your credential by accident."
   ]
  },
  {
   "cell_type": "code",
   "execution_count": 2,
   "metadata": {},
   "outputs": [],
   "source": [
    "DE.load_dotenv()\n",
    "api_passwd = OS.environ['MY_TOKEN']"
   ]
  },
  {
   "attachments": {},
   "cell_type": "markdown",
   "metadata": {},
   "source": [
    "## Examples"
   ]
  },
  {
   "attachments": {},
   "cell_type": "markdown",
   "metadata": {},
   "source": [
    "Using the `requests` library to test the Lens.org API. We use a singple example from the Swager API test page."
   ]
  },
  {
   "cell_type": "code",
   "execution_count": 3,
   "metadata": {},
   "outputs": [],
   "source": [
    "headers= {\"Authorization\": api_passwd, \"Content-Type\": \"application/json\"}\n",
    "\n",
    "payload = '''\n",
    "{\n",
    "  \"query\": {\n",
    "    \"match\": {\n",
    "      \"title\": \"Malaria\"\n",
    "    }\n",
    "  },\n",
    "  \"size\": 5,\n",
    "  \"from\": 0,\n",
    "  \"include\": [\n",
    "    \"title\",\n",
    "    \"lens_id\",\n",
    "    \"patent_citations_count\"\n",
    "  ],\n",
    "  \"sort\": [\n",
    "    {\n",
    "      \"created\": \"desc\"\n",
    "    },\n",
    "    {\n",
    "      \"year_published\": \"asc\"\n",
    "    }\n",
    "  ],\n",
    "  \"exclude\": null,\n",
    "  \"scroll\": null,\n",
    "  \"scroll_id\": null\n",
    "}\n",
    "'''\n",
    "\n",
    "rr = RQ.post('https://api.lens.org/scholarly/search', data=payload, headers=headers)"
   ]
  },
  {
   "attachments": {},
   "cell_type": "markdown",
   "metadata": {},
   "source": [
    "After the query, we check if our request was successful or not by checking the `status_code`. The value `200` means a valid answer from the server, and [any other value](https://docs.api.lens.org/getting-started.html#http-responses) means an error. Next we print the result of the query:"
   ]
  },
  {
   "cell_type": "code",
   "execution_count": 4,
   "metadata": {},
   "outputs": [
    {
     "name": "stdout",
     "output_type": "stream",
     "text": [
      "Your request was successfull\n",
      "('{\"total\":107394,\"data\":[{\"lens_id\":\"065-560-633-197-40X\",\"title\":\"A '\n",
      " 'COMPARATIVE STUDY OF THE DIFFERENT DIAGNOSTICS OF DETECTING MALARIA AND '\n",
      " 'TYPHOID FEVER\"},{\"lens_id\":\"191-605-211-943-569\",\"title\":\"The effectiveness '\n",
      " 'of the prevention and control methods applied towards the elimination of '\n",
      " 'malaria in Botswana\"},{\"lens_id\":\"111-730-442-279-483\",\"title\":\"Quantifying '\n",
      " 'the impact of interventions against Plasmodium vivax malaria: a model for '\n",
      " 'country-specific use\"},{\"lens_id\":\"006-242-871-547-58X\",\"title\":\"Malaria '\n",
      " 'Control by Mass Drug Administration with Artemisinin plus Piperaquine on '\n",
      " 'Grande Comore Island, Union of '\n",
      " 'Comoros\"},{\"lens_id\":\"040-464-556-289-935\",\"title\":\"X marks the shot against '\n",
      " 'malaria\"}],\"results\":5}')\n"
     ]
    }
   ],
   "source": [
    "if rr.status_code == 200:\n",
    "    print(f\"Your request was successfull\")\n",
    "    PP.pprint(rr.text)\n",
    "else:\n",
    "    print(f\"Something went wrong. The return code was '{rr.status_code}'\")"
   ]
  },
  {
   "cell_type": "code",
   "execution_count": 5,
   "metadata": {},
   "outputs": [],
   "source": [
    "payload = '''{\n",
    "     \"query\": {\n",
    "        \"bool\": {\n",
    "            \"must\": [\n",
    "                {\n",
    "                    \"query_string\": {\n",
    "                        \"query\": \"catalyzed\",\n",
    "                        \"fields\": [\n",
    "                            \"title\",\n",
    "                            \"abstract\",\n",
    "                            \"full_text\"\n",
    "                        ],\n",
    "                        \"default_operator\": \"or\"\n",
    "                    }\n",
    "                }\n",
    "            ],\n",
    "            \"filter\": [\n",
    "                {\n",
    "                    \"term\": {\n",
    "                        \"has_abstract\": true\n",
    "                    }\n",
    "                }\n",
    "            ]\n",
    "        }\n",
    "    },\n",
    "     \"size\": 10\n",
    "}\n",
    "'''"
   ]
  },
  {
   "cell_type": "code",
   "execution_count": 6,
   "metadata": {},
   "outputs": [],
   "source": [
    "rr = RQ.post('https://api.lens.org/scholarly/search', data=payload, headers=headers)"
   ]
  },
  {
   "attachments": {},
   "cell_type": "markdown",
   "metadata": {},
   "source": [
    "The function below is to extract the first and last name of the author(s). The problem is that in the answer, the authors is a [structure with several fields](https://docs.api.lens.org/response-scholar.html#author), like affiliations, ids, initials, etc. Here we just want the name, and in the case of more than one author, we use a different character (`;`) so we don't mix with commas separating the fields."
   ]
  },
  {
   "cell_type": "code",
   "execution_count": 7,
   "metadata": {},
   "outputs": [],
   "source": [
    "def get_authors(count: int, aulist: list) -> str:\n",
    "    \"\"\"\n",
    "    Return the author's first and lastname.\n",
    "    \"\"\"\n",
    "    \n",
    "    if count == 1:\n",
    "        return aulist[0]['first_name'] + \" \" + aulist[0]['last_name']\n",
    "    else:\n",
    "        names = \"\"\n",
    "        for aa in aulist:\n",
    "            names += aa['first_name'] + \" \" + aa['last_name'] + \"; \"\n",
    "        # hack: remove the last '; '.\n",
    "        names = names[:-2]\n",
    "    \n",
    "        return names\n",
    "\n"
   ]
  },
  {
   "attachments": {},
   "cell_type": "markdown",
   "metadata": {},
   "source": [
    "We use the method [`loads`](https://docs.python.org/3/library/json.html#json.loads) to read the output from our request into a JSON object. Next we will save the JSON items as a CSV file."
   ]
  },
  {
   "cell_type": "code",
   "execution_count": 8,
   "metadata": {},
   "outputs": [],
   "source": [
    "text = JN.loads(rr.text)\n",
    "data = text['data']\n",
    "\n",
    "fields = ['lens_id', 'title', 'year_published', 'authors', 'abstract']\n",
    "row_csv = []\n",
    "\n",
    "for dd in data:\n",
    "    row = {}\n",
    "    for ff in fields:\n",
    "        row.update({ff: dd[ff]})\n",
    "    # print(dd['author_count'])\n",
    "    row['authors'] = get_authors(dd['author_count'], dd['authors'])\n",
    "    row_csv.append(row)\n",
    "\n",
    "with open('metadata.csv', \"w\", newline=\"\", encoding='utf-8') as csvfile:\n",
    "    writer = CSV.DictWriter(csvfile, fieldnames=fields)\n",
    "    writer.writeheader()\n",
    "    writer.writerows(row_csv)"
   ]
  },
  {
   "attachments": {},
   "cell_type": "markdown",
   "metadata": {},
   "source": [
    "The number of fields varies for the records, so we will use only a few fields\n"
   ]
  }
 ],
 "metadata": {
  "kernelspec": {
   "display_name": "venv",
   "language": "python",
   "name": "python3"
  },
  "language_info": {
   "codemirror_mode": {
    "name": "ipython",
    "version": 3
   },
   "file_extension": ".py",
   "mimetype": "text/x-python",
   "name": "python",
   "nbconvert_exporter": "python",
   "pygments_lexer": "ipython3",
   "version": "3.10.9"
  },
  "orig_nbformat": 4
 },
 "nbformat": 4,
 "nbformat_minor": 2
}
