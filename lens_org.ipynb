{
 "cells": [
  {
   "cell_type": "markdown",
   "metadata": {},
   "source": [
    "# APIs and Datasets for Scholarly Publications "
   ]
  },
  {
   "cell_type": "markdown",
   "metadata": {},
   "source": [
    "Using [lens.org](https://www.lens.org/) API for scholarly data."
   ]
  },
  {
   "cell_type": "markdown",
   "metadata": {},
   "source": [
    "## Prerequisites\n",
    "\n",
    "1. Clone the [GitHub repository](https://github.com/kaust-library/using_lens_org): https://github.com/kaust-library/using_lens_org\n",
    "1. Create your virtual environment: `python -m venv venv`.\n",
    "1. Activate your environment: `. .\\venv\\Scripts\\activate`. (Windows platform) or `. venv/bin/activate` (Linux)\n",
    "1. Install the required packages: `pip install -r requirements.txt`."
   ]
  },
  {
   "cell_type": "markdown",
   "metadata": {},
   "source": [
    "## Loading the Packages and Env File"
   ]
  },
  {
   "cell_type": "markdown",
   "metadata": {},
   "source": [
    "Load the packages"
   ]
  },
  {
   "cell_type": "code",
   "execution_count": 58,
   "metadata": {},
   "outputs": [],
   "source": [
    "import dotenv as DE\n",
    "import os as OS\n",
    "import requests as RQ\n",
    "import pprint as PP\n",
    "import json as JN\n",
    "import csv as CSV"
   ]
  },
  {
   "cell_type": "markdown",
   "metadata": {},
   "source": [
    "You may need to create a `.env` file with your _token_ on _root_ directory of your project\n",
    "\n",
    "```\n",
    "(venv) PS C:\\Users\\garcm0b\\Work\\lens_org> cat .env\n",
    "MY_TOKEN=(...)\n",
    "(venv) PS C:\\Users\\garcm0b\\Work\\lens_org>\n",
    "```\n",
    "\n",
    "Make sure that your `.env` file is in the `.gitignore` file, so we will not upload your credential by accident."
   ]
  },
  {
   "cell_type": "code",
   "execution_count": 59,
   "metadata": {},
   "outputs": [],
   "source": [
    "DE.load_dotenv()\n",
    "api_passwd = OS.environ['MY_TOKEN']"
   ]
  },
  {
   "cell_type": "markdown",
   "metadata": {},
   "source": [
    "## Examples"
   ]
  },
  {
   "attachments": {},
   "cell_type": "markdown",
   "metadata": {},
   "source": [
    "### Simple Search"
   ]
  },
  {
   "cell_type": "markdown",
   "metadata": {},
   "source": [
    "Using the [`requests`](https://docs.python-requests.org/en/latest/index.html) library to test the Lens.org API. We use a singple example from the Swager API test page. Here we see simple query with some fields:\n",
    "\n",
    "* [Query](https://docs.api.lens.org/request-scholar.html#terms-query): operates in a single term and search for _exact_ term in the field provided.\n",
    "* [Match](https://docs.api.lens.org/request-scholar.html#match-query): the main use case of the match query is full-text search. It matches each words separately.\n",
    "* [From/Size](https://docs.api.lens.org/request-scholar.html#offsetsize-based-pagination): use parameter `from` to define the offset and `size` to specify number of records expected.\n",
    "* [Include/Exclude](https://docs.api.lens.org/request-scholar.html#projection): only request specific fields from the API endpoint.\n",
    "* [Sort](https://docs.api.lens.org/request-scholar.html#sorting): result can be retrieved in ascending or descending order.\n",
    "* [Scroll/Scroll_id](https://docs.api.lens.org/request-scholar.html#cursor-based-pagination): You can specify records per page using `size` (default 20 and max 1000) and context alive time `scroll` (default 1 minute). You will receive a `scroll_id` in response, which should be passed via request body to access next set of results."
   ]
  },
  {
   "cell_type": "code",
   "execution_count": 60,
   "metadata": {},
   "outputs": [],
   "source": [
    "headers= {\"Authorization\": api_passwd, \"Content-Type\": \"application/json\"}\n",
    "\n",
    "payload = '''\n",
    "{\n",
    "  \"query\": {\n",
    "    \"match\": {\n",
    "      \"title\": \"Malaria\"\n",
    "    }\n",
    "  },\n",
    "  \"size\": 5,\n",
    "  \"from\": 0,\n",
    "  \"include\": [\n",
    "    \"title\",\n",
    "    \"lens_id\",\n",
    "    \"patent_citations_count\"\n",
    "  ],\n",
    "  \"sort\": [\n",
    "    {\n",
    "      \"created\": \"desc\"\n",
    "    },\n",
    "    {\n",
    "      \"year_published\": \"asc\"\n",
    "    }\n",
    "  ],\n",
    "  \"exclude\": null,\n",
    "  \"scroll\": null,\n",
    "  \"scroll_id\": null\n",
    "}\n",
    "'''\n",
    "\n",
    "rr = RQ.post('https://api.lens.org/scholarly/search', data=payload, headers=headers)"
   ]
  },
  {
   "cell_type": "markdown",
   "metadata": {},
   "source": [
    "After the query, we check if our request was successful or not by checking the `status_code`. The value `200` means a valid answer from the server, and [any other value](https://docs.api.lens.org/getting-started.html#http-responses) means an error. Next we print the result of the query:"
   ]
  },
  {
   "cell_type": "code",
   "execution_count": 61,
   "metadata": {},
   "outputs": [
    {
     "name": "stdout",
     "output_type": "stream",
     "text": [
      "Your request was successfull\n",
      "('{\"total\":107644,\"data\":[{\"lens_id\":\"189-780-393-989-766\",\"title\":\"A world '\n",
      " 'free of malaria: It is time for Africa to actively champion and take '\n",
      " 'leadership of elimination and eradication '\n",
      " 'strategies\"},{\"lens_id\":\"085-144-192-014-163\",\"title\":\"Reflections from the '\n",
      " 'first South Sudan malaria '\n",
      " 'conference\"},{\"lens_id\":\"091-205-353-493-016\",\"title\":\"ASYMPTOMATIC MALARIA '\n",
      " 'INFECTION AND ANAEMIA AMONG SECONDARY SCHOOL CHILDREN IN IPOGUN, ONDO STATE, '\n",
      " 'NIGERIA\"},{\"lens_id\":\"007-476-373-861-646\",\"title\":\"EFFECT OF MALARIA ON '\n",
      " 'VISUAL ACUITY (V.A)\"},{\"lens_id\":\"027-325-084-244-85X\",\"title\":\"Peer Review '\n",
      " '#2 of Cohesin is involved in transcriptional repression of stage-specific '\n",
      " 'genes in the human malaria parasite\"}],\"results\":5}')\n"
     ]
    }
   ],
   "source": [
    "if rr.status_code == 200:\n",
    "    print(f\"Your request was successfull\")\n",
    "    PP.pprint(rr.text)\n",
    "else:\n",
    "    print(f\"Something went wrong. The return code was '{rr.status_code}'\")"
   ]
  },
  {
   "attachments": {},
   "cell_type": "markdown",
   "metadata": {},
   "source": [
    "### Saving to CSV File"
   ]
  },
  {
   "attachments": {},
   "cell_type": "markdown",
   "metadata": {},
   "source": [
    "The next example we query for the articles with abstract, and we save the output to a CSV file. This can be further expanded by tokenizing the abstract, and using tokens for Machine Learning."
   ]
  },
  {
   "cell_type": "code",
   "execution_count": 62,
   "metadata": {},
   "outputs": [],
   "source": [
    "payload = '''{\n",
    "     \"query\": {\n",
    "        \"bool\": {\n",
    "            \"must\": [\n",
    "                {\n",
    "                    \"query_string\": {\n",
    "                        \"query\": \"catalyzed\",\n",
    "                        \"fields\": [\n",
    "                            \"title\",\n",
    "                            \"abstract\",\n",
    "                            \"full_text\"\n",
    "                        ],\n",
    "                        \"default_operator\": \"or\"\n",
    "                    }\n",
    "                }\n",
    "            ],\n",
    "            \"filter\": [\n",
    "                {\n",
    "                    \"term\": {\n",
    "                        \"has_abstract\": true\n",
    "                    }\n",
    "                }\n",
    "            ]\n",
    "        }\n",
    "    },\n",
    "     \"size\": 10\n",
    "}\n",
    "'''"
   ]
  },
  {
   "cell_type": "code",
   "execution_count": 63,
   "metadata": {},
   "outputs": [],
   "source": [
    "rr = RQ.post('https://api.lens.org/scholarly/search', data=payload, headers=headers)"
   ]
  },
  {
   "cell_type": "markdown",
   "metadata": {},
   "source": [
    "The function below is to extract the first and last name of the author(s). The problem is that in the answer, the authors is a [structure with several fields](https://docs.api.lens.org/response-scholar.html#author), like affiliations, ids, initials, etc. Here we just want the name, and in the case of more than one author, we use a different character (`;`) so we don't mix with commas separating the fields."
   ]
  },
  {
   "cell_type": "code",
   "execution_count": 64,
   "metadata": {},
   "outputs": [],
   "source": [
    "def get_authors(count: int, aulist: list) -> str:\n",
    "    \"\"\"\n",
    "    Return the author's first and lastname.\n",
    "    \"\"\"\n",
    "    \n",
    "    if count == 1:\n",
    "        return aulist[0]['first_name'] + \" \" + aulist[0]['last_name']\n",
    "    else:\n",
    "        names = \"\"\n",
    "        for aa in aulist:\n",
    "            names += aa['first_name'] + \" \" + aa['last_name'] + \"; \"\n",
    "        # hack: remove the last '; '.\n",
    "        names = names[:-2]\n",
    "    \n",
    "        return names"
   ]
  },
  {
   "attachments": {},
   "cell_type": "markdown",
   "metadata": {},
   "source": [
    "We use the method [`loads`](https://docs.python.org/3/library/json.html#json.loads) to read the output from our request into a JSON object. Next we will save the JSON items as a CSV file. To write the CSV file we'll use the [DictWriter](https://docs.python.org/3.10/library/csv.html#csv.DictWriter) method."
   ]
  },
  {
   "cell_type": "code",
   "execution_count": 65,
   "metadata": {},
   "outputs": [],
   "source": [
    "text = JN.loads(rr.text)\n",
    "data = text['data']\n",
    "\n",
    "fields = ['lens_id', 'title', 'year_published', 'authors', 'abstract']\n",
    "row_csv = []\n",
    "\n",
    "for dd in data:\n",
    "    row = {}\n",
    "    for ff in fields:\n",
    "        row.update({ff: dd[ff]})\n",
    "    # print(dd['author_count'])\n",
    "    row['authors'] = get_authors(dd['author_count'], dd['authors'])\n",
    "    row_csv.append(row)\n",
    "\n",
    "with open('metadata.csv', \"w\", newline=\"\", encoding='utf-8') as csvfile:\n",
    "    writer = CSV.DictWriter(csvfile, fieldnames=fields)\n",
    "    writer.writeheader()\n",
    "    writer.writerows(row_csv)"
   ]
  },
  {
   "cell_type": "markdown",
   "metadata": {},
   "source": [
    "Let's give an example of authors as given by the API and after our function:"
   ]
  },
  {
   "cell_type": "code",
   "execution_count": 66,
   "metadata": {},
   "outputs": [
    {
     "name": "stdout",
     "output_type": "stream",
     "text": [
      "First the output from the API:\n",
      "[{'affiliations': [],\n",
      "  'first_name': 'Andrei K.',\n",
      "  'ids': [{'type': 'magid', 'value': '1890584584'}],\n",
      "  'initials': 'AK',\n",
      "  'last_name': 'Yudin'},\n",
      " {'affiliations': [],\n",
      "  'first_name': 'John F.',\n",
      "  'ids': [{'type': 'magid', 'value': '2091457642'}],\n",
      "  'initials': 'JF',\n",
      "  'last_name': 'Hartwig'}]\n",
      "\n",
      "After the function 'get_authors'\n",
      "'Andrei K. Yudin; John F. Hartwig'\n"
     ]
    }
   ],
   "source": [
    "print(\"First the output from the API:\")\n",
    "PP.pprint(dd['authors'])\n",
    "print(\"\\nAfter the function 'get_authors'\")\n",
    "PP.pprint(row['authors'])"
   ]
  },
  {
   "attachments": {},
   "cell_type": "markdown",
   "metadata": {},
   "source": [
    "### Building a Query"
   ]
  },
  {
   "attachments": {},
   "cell_type": "markdown",
   "metadata": {},
   "source": [
    "Next we will build a search. We start querying for KAUST output with the following fields: _title_, _lens\\_id_, and _year of publication_."
   ]
  },
  {
   "cell_type": "code",
   "execution_count": 67,
   "metadata": {},
   "outputs": [],
   "source": [
    "payload = '''{\n",
    "    \"query\": {\n",
    "        \"match_phrase\": {\n",
    "            \"author.affiliation.name\": \"King Abdullah University of Science and Technology\"\n",
    "        }\n",
    "    },\n",
    "    \"include\": [\n",
    "        \"title\",\n",
    "        \"lens_id\",\n",
    "        \"year_published\"\n",
    "    ],\n",
    "    \"size\": 10\n",
    "}\n",
    "'''"
   ]
  },
  {
   "cell_type": "code",
   "execution_count": 68,
   "metadata": {},
   "outputs": [],
   "source": [
    "rr = RQ.post('https://api.lens.org/scholarly/search', data=payload, headers=headers)"
   ]
  },
  {
   "cell_type": "code",
   "execution_count": 69,
   "metadata": {},
   "outputs": [
    {
     "name": "stdout",
     "output_type": "stream",
     "text": [
      "Your request was successfull\n",
      "('{\"total\":26456,\"data\":[{\"lens_id\":\"015-043-967-234-283\",\"title\":\"Damp '\n",
      " 'heat-stable perovskite solar cells with tailored-dimensionality 2D/3D '\n",
      " 'heterojunctions.\",\"year_published\":2022},{\"lens_id\":\"042-815-052-361-010\",\"title\":\"Nitrogen '\n",
      " 'Reduction to Ammonia by a Phosphorus-Nitrogen PN\\\\n            '\n",
      " '<sup>3</sup>\\\\n            P-Mo(V) Nitride Complex: Significant Enhancement '\n",
      " 'via Ligand '\n",
      " 'Postmodification\",\"year_published\":2023},{\"lens_id\":\"044-368-649-773-289\",\"title\":\"Canonical '\n",
      " 'strigolactones are not the major determinant of tillering but important '\n",
      " 'rhizospheric signals in '\n",
      " 'rice.\",\"year_published\":2022},{\"lens_id\":\"083-564-790-962-620\",\"title\":\"Metal-Organic '\n",
      " 'Frameworks in Mixed-Matrix Membranes for High-Speed Visible-Light '\n",
      " 'Communication.\",\"year_published\":2022},{\"lens_id\":\"109-516-570-346-389\",\"title\":\"Monolithic '\n",
      " 'Perovskite/Silicon Tandems with >28% Efficiency: Role of Silicon‐Surface '\n",
      " 'Texture on Perovskite '\n",
      " 'Properties\",\"year_published\":2022},{\"lens_id\":\"129-425-425-685-685\",\"title\":\"Towards '\n",
      " 'an End-to-End Analysis and Prediction System for Weather, Climate, and '\n",
      " 'Marine Applications in the Red '\n",
      " 'Sea\",\"year_published\":2021},{\"lens_id\":\"138-435-230-376-781\",\"title\":\"SARS-CoV-2 '\n",
      " 'genomes from Saudi Arabia implicate nucleocapsid mutations in host response '\n",
      " 'and increased viral '\n",
      " 'load.\",\"year_published\":2022},{\"lens_id\":\"154-046-947-105-701\",\"title\":\"Fully '\n",
      " 'Sprayed Metal Oxide Transistors Utilizing '\n",
      " 'Ti<sub>3</sub>C<sub>2</sub>T<sub><i>x</i></sub> MXene '\n",
      " 'Contacts\",\"year_published\":2023},{\"lens_id\":\"155-332-132-960-604\",\"title\":\"PlantACT! '\n",
      " '- how to tackle the climate '\n",
      " 'crisis.\",\"year_published\":2023},{\"lens_id\":\"163-492-129-943-072\",\"title\":\"Efficient '\n",
      " 'and stable perovskite-silicon tandem solar cells through contact '\n",
      " 'displacement by MgFx.\",\"year_published\":2022}],\"results\":10}')\n"
     ]
    }
   ],
   "source": [
    "if rr.status_code == 200:\n",
    "    print(f\"Your request was successfull\")\n",
    "    PP.pprint(rr.text)\n",
    "else:\n",
    "    print(f\"Something went wrong. The return code was '{rr.status_code}'\")"
   ]
  },
  {
   "attachments": {},
   "cell_type": "markdown",
   "metadata": {},
   "source": [
    "Next we include a range for the year of publication."
   ]
  },
  {
   "cell_type": "code",
   "execution_count": 136,
   "metadata": {},
   "outputs": [],
   "source": [
    "payload = '''{\n",
    "    \"query\": {\n",
    "        \"bool\": {\n",
    "            \"must\": [\n",
    "                {\n",
    "                    \"match_phrase\":{\n",
    "                        \"author.affiliation.name\": \"King Abdullah University of Science and Technology\"\n",
    "                    }\n",
    "                }, {\n",
    "                    \"range\": {\n",
    "                        \"year_published\": {\n",
    "                            \"gte\": \"2018\",\n",
    "                            \"lte\": \"2020\"\n",
    "                        }\n",
    "                    }                \n",
    "                }\n",
    "            ],\n",
    "            \"filter\": [\n",
    "                {\n",
    "                    \"term\": {\n",
    "                        \"publication_type\": \"journal article\"\n",
    "                    }\n",
    "                }\n",
    "            ]\n",
    "        }\n",
    "    },\n",
    "    \"include\": [\n",
    "        \"lens_id\",\n",
    "        \"title\",\n",
    "        \"year_published\"\n",
    "    ],\n",
    "    \"size\": 10\n",
    "}\n",
    "'''"
   ]
  },
  {
   "cell_type": "code",
   "execution_count": 137,
   "metadata": {},
   "outputs": [],
   "source": [
    "rr = RQ.post('https://api.lens.org/scholarly/search', data=payload, headers=headers)"
   ]
  },
  {
   "cell_type": "code",
   "execution_count": 138,
   "metadata": {},
   "outputs": [
    {
     "name": "stdout",
     "output_type": "stream",
     "text": [
      "Your request was successfull\n",
      "('{\"total\":5895,\"data\":[{\"lens_id\":\"008-897-357-875-011\",\"title\":\"Quantum Dots '\n",
      " 'Supply Bulk- and Surface-Passivation Agents for Efficient and Stable '\n",
      " 'Perovskite Solar '\n",
      " 'Cells\",\"year_published\":2019},{\"lens_id\":\"024-196-058-429-896\",\"title\":\"Halogen '\n",
      " 'Vacancies Enable Ligand‐Assisted Self‐Assembly of Perovskite Quantum Dots '\n",
      " 'into '\n",
      " 'Nanowires\",\"year_published\":2019},{\"lens_id\":\"034-562-241-096-057\",\"title\":\"Managing '\n",
      " 'grains and interfaces via ligand anchoring enables 22.3%-efficiency inverted '\n",
      " 'perovskite solar '\n",
      " 'cells\",\"year_published\":2020},{\"lens_id\":\"056-388-544-861-841\",\"title\":\"Intrinsic '\n",
      " 'efficiency limits in low-bandgap non-fullerene acceptor organic solar '\n",
      " 'cells\",\"year_published\":2020},{\"lens_id\":\"060-777-685-250-677\",\"title\":\"Correction: '\n",
      " 'Topology meets MOF chemistry for pore-aperture fine tuning: ftw-MOF platform '\n",
      " 'for energy-efficient separations via adsorption kinetics or molecular '\n",
      " 'sieving.\",\"year_published\":2018},{\"lens_id\":\"109-870-574-193-73X\",\"title\":\"Self-assembled '\n",
      " 'Monolayer Enables HTL-free Organic Solar Cells with 18% Efficiency and '\n",
      " 'Improved Operational '\n",
      " 'Stability\",\"year_published\":2020},{\"lens_id\":\"110-510-019-944-641\",\"title\":\"Splice2Deep: '\n",
      " 'An ensemble of deep convolutional neural networks for improved splice site '\n",
      " 'prediction in genomic '\n",
      " 'DNA.\",\"year_published\":2020},{\"lens_id\":\"138-899-567-780-857\",\"title\":\"A '\n",
      " 'Titanium Metal–Organic Framework with Visible‐Light‐Responsive '\n",
      " 'Photocatalytic '\n",
      " 'Activity\",\"year_published\":2020},{\"lens_id\":\"150-968-886-239-743\",\"title\":\"Enabling '\n",
      " 'Fluorinated MOF-Based Membranes for Simultaneous Removal of H<sub>2</sub>S '\n",
      " 'and CO<sub>2</sub>from Natural '\n",
      " 'Gas\",\"year_published\":2018},{\"lens_id\":\"157-573-398-167-224\",\"title\":\"Light-Induced '\n",
      " 'Self-Assembly of Cubic CsPbBr3 Perovskite Nanocrystals into '\n",
      " 'Nanowires\",\"year_published\":2019}],\"results\":10}')\n"
     ]
    }
   ],
   "source": [
    "if rr.status_code == 200:\n",
    "    print(f\"Your request was successfull\")\n",
    "    PP.pprint(rr.text)\n",
    "else:\n",
    "    print(f\"Something went wrong. The return code was '{rr.status_code}'\")"
   ]
  }
 ],
 "metadata": {
  "kernelspec": {
   "display_name": "Python 3 (ipykernel)",
   "language": "python",
   "name": "python3"
  },
  "language_info": {
   "codemirror_mode": {
    "name": "ipython",
    "version": 3
   },
   "file_extension": ".py",
   "mimetype": "text/x-python",
   "name": "python",
   "nbconvert_exporter": "python",
   "pygments_lexer": "ipython3",
   "version": "3.10.9"
  }
 },
 "nbformat": 4,
 "nbformat_minor": 4
}
