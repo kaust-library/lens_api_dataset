{
 "cells": [
  {
   "cell_type": "markdown",
   "metadata": {},
   "source": [
    "# APIs and Datasets for Scholarly Publications "
   ]
  },
  {
   "cell_type": "markdown",
   "metadata": {},
   "source": [
    "Using [lens.org](https://www.lens.org/) API for scholarly data."
   ]
  },
  {
   "cell_type": "markdown",
   "metadata": {},
   "source": [
    "## Prerequisites\n",
    "\n",
    "1. Clone the [GitHub repository](https://github.com/kaust-library/using_lens_org): https://github.com/kaust-library/using_lens_org\n",
    "1. Create your virtual environment: `python -m venv venv`.\n",
    "1. Activate your environment: `. .\\venv\\Scripts\\activate`. (Windows platform) or `. venv/bin/activate` (Linux)\n",
    "1. Install the required packages: `pip install -r requirements.txt`."
   ]
  },
  {
   "cell_type": "markdown",
   "metadata": {},
   "source": [
    "## Loading the Packages and Env File"
   ]
  },
  {
   "cell_type": "markdown",
   "metadata": {},
   "source": [
    "Load the packages"
   ]
  },
  {
   "cell_type": "code",
   "execution_count": 1,
   "metadata": {},
   "outputs": [],
   "source": [
    "import dotenv as DE\n",
    "import os as OS\n",
    "import requests as RQ\n",
    "import pprint as PP\n",
    "import json as JN\n",
    "import csv as CSV"
   ]
  },
  {
   "cell_type": "markdown",
   "metadata": {},
   "source": [
    "You may need to create a `.env` file with your _token_ on _root_ directory of your project\n",
    "\n",
    "```\n",
    "(venv) PS C:\\Users\\garcm0b\\Work\\lens_org> cat .env\n",
    "MY_TOKEN=(...)\n",
    "(venv) PS C:\\Users\\garcm0b\\Work\\lens_org>\n",
    "```\n",
    "\n",
    "Make sure that your `.env` file is in the `.gitignore` file, so we will not upload your credential by accident."
   ]
  },
  {
   "cell_type": "code",
   "execution_count": 2,
   "metadata": {},
   "outputs": [],
   "source": [
    "DE.load_dotenv()\n",
    "api_passwd = OS.environ['MY_TOKEN']"
   ]
  },
  {
   "cell_type": "markdown",
   "metadata": {},
   "source": [
    "## Examples"
   ]
  },
  {
   "attachments": {},
   "cell_type": "markdown",
   "metadata": {},
   "source": [
    "### Simple Search"
   ]
  },
  {
   "cell_type": "markdown",
   "metadata": {},
   "source": [
    "Using the [`requests`](https://docs.python-requests.org/en/latest/index.html) library to test the Lens.org API. We use a singple example from the Swager API test page. Here we see simple query with some fields:\n",
    "\n",
    "* [Query](https://docs.api.lens.org/request-scholar.html#terms-query): operates in a single term and search for _exact_ term in the field provided.\n",
    "* [Match](https://docs.api.lens.org/request-scholar.html#match-query): the main use case of the match query is full-text search. It matches each words separately.\n",
    "* [From/Size](https://docs.api.lens.org/request-scholar.html#offsetsize-based-pagination): use parameter `from` to define the offset and `size` to specify number of records expected.\n",
    "* [Include/Exclude](https://docs.api.lens.org/request-scholar.html#projection): only request specific fields from the API endpoint.\n",
    "* [Sort](https://docs.api.lens.org/request-scholar.html#sorting): result can be retrieved in ascending or descending order.\n",
    "* [Scroll/Scroll_id](https://docs.api.lens.org/request-scholar.html#cursor-based-pagination): You can specify records per page using `size` (default 20 and max 1000) and context alive time `scroll` (default 1 minute). You will receive a `scroll_id` in response, which should be passed via request body to access next set of results."
   ]
  },
  {
   "cell_type": "code",
   "execution_count": 3,
   "metadata": {},
   "outputs": [],
   "source": [
    "headers= {\"Authorization\": api_passwd, \"Content-Type\": \"application/json\"}\n",
    "\n",
    "payload = '''\n",
    "{\n",
    "  \"query\": {\n",
    "    \"match\": {\n",
    "      \"title\": \"Malaria\"\n",
    "    }\n",
    "  },\n",
    "  \"size\": 5,\n",
    "  \"from\": 0,\n",
    "  \"include\": [\n",
    "    \"title\",\n",
    "    \"lens_id\",\n",
    "    \"patent_citations_count\"\n",
    "  ],\n",
    "  \"sort\": [\n",
    "    {\n",
    "      \"created\": \"desc\"\n",
    "    },\n",
    "    {\n",
    "      \"year_published\": \"asc\"\n",
    "    }\n",
    "  ],\n",
    "  \"exclude\": null,\n",
    "  \"scroll\": null,\n",
    "  \"scroll_id\": null\n",
    "}\n",
    "'''\n",
    "\n",
    "rr = RQ.post('https://api.lens.org/scholarly/search', data=payload, headers=headers)"
   ]
  },
  {
   "cell_type": "markdown",
   "metadata": {},
   "source": [
    "After the query, we check if our request was successful or not by checking the `status_code`. The value `200` means a valid answer from the server, and [any other value](https://docs.api.lens.org/getting-started.html#http-responses) means an error. Next we print the result of the query:"
   ]
  },
  {
   "cell_type": "code",
   "execution_count": 4,
   "metadata": {},
   "outputs": [
    {
     "name": "stdout",
     "output_type": "stream",
     "text": [
      "Your request was successfull\n",
      "('{\"total\":107644,\"data\":[{\"lens_id\":\"189-780-393-989-766\",\"title\":\"A world '\n",
      " 'free of malaria: It is time for Africa to actively champion and take '\n",
      " 'leadership of elimination and eradication '\n",
      " 'strategies\"},{\"lens_id\":\"085-144-192-014-163\",\"title\":\"Reflections from the '\n",
      " 'first South Sudan malaria '\n",
      " 'conference\"},{\"lens_id\":\"091-205-353-493-016\",\"title\":\"ASYMPTOMATIC MALARIA '\n",
      " 'INFECTION AND ANAEMIA AMONG SECONDARY SCHOOL CHILDREN IN IPOGUN, ONDO STATE, '\n",
      " 'NIGERIA\"},{\"lens_id\":\"007-476-373-861-646\",\"title\":\"EFFECT OF MALARIA ON '\n",
      " 'VISUAL ACUITY (V.A)\"},{\"lens_id\":\"027-325-084-244-85X\",\"title\":\"Peer Review '\n",
      " '#2 of Cohesin is involved in transcriptional repression of stage-specific '\n",
      " 'genes in the human malaria parasite\"}],\"results\":5}')\n"
     ]
    }
   ],
   "source": [
    "if rr.status_code == 200:\n",
    "    print(f\"Your request was successfull\")\n",
    "    PP.pprint(rr.text)\n",
    "else:\n",
    "    print(f\"Something went wrong. The return code was '{rr.status_code}'\")"
   ]
  },
  {
   "attachments": {},
   "cell_type": "markdown",
   "metadata": {},
   "source": [
    "### Saving to CSV File"
   ]
  },
  {
   "attachments": {},
   "cell_type": "markdown",
   "metadata": {},
   "source": [
    "The next example we query for the articles with abstract, and we save the output to a CSV file. This can be further expanded by tokenizing the abstract, and using tokens for Machine Learning."
   ]
  },
  {
   "cell_type": "code",
   "execution_count": 5,
   "metadata": {},
   "outputs": [],
   "source": [
    "payload = '''{\n",
    "     \"query\": {\n",
    "        \"bool\": {\n",
    "            \"must\": [\n",
    "                {\n",
    "                    \"query_string\": {\n",
    "                        \"query\": \"catalyzed\",\n",
    "                        \"fields\": [\n",
    "                            \"title\",\n",
    "                            \"abstract\",\n",
    "                            \"full_text\"\n",
    "                        ],\n",
    "                        \"default_operator\": \"or\"\n",
    "                    }\n",
    "                }\n",
    "            ],\n",
    "            \"filter\": [\n",
    "                {\n",
    "                    \"term\": {\n",
    "                        \"has_abstract\": true\n",
    "                    }\n",
    "                }\n",
    "            ]\n",
    "        }\n",
    "    },\n",
    "     \"size\": 10\n",
    "}\n",
    "'''"
   ]
  },
  {
   "cell_type": "code",
   "execution_count": 6,
   "metadata": {},
   "outputs": [],
   "source": [
    "rr = RQ.post('https://api.lens.org/scholarly/search', data=payload, headers=headers)"
   ]
  },
  {
   "cell_type": "markdown",
   "metadata": {},
   "source": [
    "The function below is to extract the first and last name of the author(s). The problem is that in the answer, the authors is a [structure with several fields](https://docs.api.lens.org/response-scholar.html#author), like affiliations, ids, initials, etc. Here we just want the name, and in the case of more than one author, we use a different character (`;`) so we don't mix with commas separating the fields."
   ]
  },
  {
   "cell_type": "code",
   "execution_count": 7,
   "metadata": {},
   "outputs": [],
   "source": [
    "def get_authors(count: int, aulist: list) -> str:\n",
    "    \"\"\"\n",
    "    Return the author's first and lastname.\n",
    "    \"\"\"\n",
    "    \n",
    "    if count == 1:\n",
    "        return aulist[0]['first_name'] + \" \" + aulist[0]['last_name']\n",
    "    else:\n",
    "        names = \"\"\n",
    "        for aa in aulist:\n",
    "            names += aa['first_name'] + \" \" + aa['last_name'] + \"; \"\n",
    "        # hack: remove the last '; '.\n",
    "        names = names[:-2]\n",
    "    \n",
    "        return names"
   ]
  },
  {
   "attachments": {},
   "cell_type": "markdown",
   "metadata": {},
   "source": [
    "We use the method [`loads`](https://docs.python.org/3/library/json.html#json.loads) to read the output from our request into a JSON object. Next we will save the JSON items as a CSV file. To write the CSV file we'll use the [DictWriter](https://docs.python.org/3.10/library/csv.html#csv.DictWriter) method."
   ]
  },
  {
   "cell_type": "code",
   "execution_count": 8,
   "metadata": {},
   "outputs": [],
   "source": [
    "text = JN.loads(rr.text)\n",
    "data = text['data']\n",
    "\n",
    "fields = ['lens_id', 'title', 'year_published', 'authors', 'abstract']\n",
    "row_csv = []\n",
    "\n",
    "for dd in data:\n",
    "    row = {}\n",
    "    for ff in fields:\n",
    "        row.update({ff: dd[ff]})\n",
    "    # print(dd['author_count'])\n",
    "    row['authors'] = get_authors(dd['author_count'], dd['authors'])\n",
    "    row_csv.append(row)\n",
    "\n",
    "with open('metadata.csv', \"w\", newline=\"\", encoding='utf-8') as csvfile:\n",
    "    writer = CSV.DictWriter(csvfile, fieldnames=fields)\n",
    "    writer.writeheader()\n",
    "    writer.writerows(row_csv)"
   ]
  },
  {
   "cell_type": "markdown",
   "metadata": {},
   "source": [
    "Let's give an example of authors as given by the API and after our function:"
   ]
  },
  {
   "cell_type": "code",
   "execution_count": 9,
   "metadata": {},
   "outputs": [
    {
     "name": "stdout",
     "output_type": "stream",
     "text": [
      "First the output from the API:\n",
      "[{'affiliations': [],\n",
      "  'first_name': 'Andrei K.',\n",
      "  'ids': [{'type': 'magid', 'value': '1890584584'}],\n",
      "  'initials': 'AK',\n",
      "  'last_name': 'Yudin'},\n",
      " {'affiliations': [],\n",
      "  'first_name': 'John F.',\n",
      "  'ids': [{'type': 'magid', 'value': '2091457642'}],\n",
      "  'initials': 'JF',\n",
      "  'last_name': 'Hartwig'}]\n",
      "\n",
      "After the function 'get_authors'\n",
      "'Andrei K. Yudin; John F. Hartwig'\n"
     ]
    }
   ],
   "source": [
    "print(\"First the output from the API:\")\n",
    "PP.pprint(dd['authors'])\n",
    "print(\"\\nAfter the function 'get_authors'\")\n",
    "PP.pprint(row['authors'])"
   ]
  },
  {
   "attachments": {},
   "cell_type": "markdown",
   "metadata": {},
   "source": [
    "### Building a Query"
   ]
  },
  {
   "attachments": {},
   "cell_type": "markdown",
   "metadata": {},
   "source": [
    "Next we will build a search. We start querying for KAUST output with the following fields: _title_, _lens\\_id_, and _year of publication_."
   ]
  },
  {
   "cell_type": "code",
   "execution_count": 10,
   "metadata": {},
   "outputs": [],
   "source": [
    "payload = '''{\n",
    "    \"query\": {\n",
    "        \"match_phrase\": {\n",
    "            \"author.affiliation.name\": \"King Abdullah University of Science and Technology\"\n",
    "        }\n",
    "    },\n",
    "    \"include\": [\n",
    "        \"title\",\n",
    "        \"lens_id\",\n",
    "        \"year_published\"\n",
    "    ],\n",
    "    \"size\": 10\n",
    "}\n",
    "'''"
   ]
  },
  {
   "cell_type": "code",
   "execution_count": 11,
   "metadata": {},
   "outputs": [],
   "source": [
    "rr = RQ.post('https://api.lens.org/scholarly/search', data=payload, headers=headers)"
   ]
  },
  {
   "cell_type": "code",
   "execution_count": 12,
   "metadata": {},
   "outputs": [
    {
     "name": "stdout",
     "output_type": "stream",
     "text": [
      "Your request was successfull\n"
     ]
    }
   ],
   "source": [
    "if rr.status_code == 200:\n",
    "    print(f\"Your request was successfull\")\n",
    "else:\n",
    "    print(f\"Something went wrong. The return code was '{rr.status_code}'\")"
   ]
  },
  {
   "attachments": {},
   "cell_type": "markdown",
   "metadata": {},
   "source": [
    "Next we include a range for the year of publication."
   ]
  },
  {
   "cell_type": "code",
   "execution_count": 13,
   "metadata": {},
   "outputs": [],
   "source": [
    "payload = '''{\n",
    "    \"query\": {\n",
    "        \"bool\": {\n",
    "            \"must\": [\n",
    "                {\n",
    "                    \"match_phrase\":{\n",
    "                        \"author.affiliation.name\": \"King Abdullah University of Science and Technology\"\n",
    "                    }\n",
    "                }, {\n",
    "                    \"range\": {\n",
    "                        \"year_published\": {\n",
    "                            \"gte\": \"2018\",\n",
    "                            \"lte\": \"2020\"\n",
    "                        }\n",
    "                    }                \n",
    "                }\n",
    "            ],\n",
    "            \"filter\": [\n",
    "                {\n",
    "                    \"term\": {\n",
    "                        \"publication_type\": \"journal article\"\n",
    "                    }\n",
    "                }\n",
    "            ]\n",
    "        }\n",
    "    },\n",
    "    \"include\": [\n",
    "        \"lens_id\",\n",
    "        \"title\",\n",
    "        \"year_published\"\n",
    "    ],\n",
    "    \"size\": 10\n",
    "}\n",
    "'''"
   ]
  },
  {
   "cell_type": "code",
   "execution_count": 14,
   "metadata": {},
   "outputs": [],
   "source": [
    "rr = RQ.post('https://api.lens.org/scholarly/search', data=payload, headers=headers)"
   ]
  },
  {
   "cell_type": "code",
   "execution_count": 15,
   "metadata": {},
   "outputs": [
    {
     "name": "stdout",
     "output_type": "stream",
     "text": [
      "Your request was successfull\n"
     ]
    }
   ],
   "source": [
    "if rr.status_code == 200:\n",
    "    print(f\"Your request was successfull\")\n",
    "else:\n",
    "    print(f\"Something went wrong. The return code was '{rr.status_code}'\")"
   ]
  },
  {
   "attachments": {},
   "cell_type": "markdown",
   "metadata": {},
   "source": [
    "In the output above there is no order, that is, there are articles from 2020, followed by articles from 2018, and back to 2020. Next we sort the articles by year in descending order."
   ]
  },
  {
   "cell_type": "code",
   "execution_count": 16,
   "metadata": {},
   "outputs": [],
   "source": [
    "payload = '''{\n",
    "    \"query\": {\n",
    "        \"bool\": {\n",
    "            \"must\": [\n",
    "                {\n",
    "                    \"match_phrase\":{\n",
    "                        \"author.affiliation.name\": \"King Abdullah University of Science and Technology\"\n",
    "                    }\n",
    "                }, {\n",
    "                    \"range\": {\n",
    "                        \"year_published\": {\n",
    "                            \"gte\": \"2018\",\n",
    "                            \"lte\": \"2020\"\n",
    "                        }\n",
    "                    }                \n",
    "                }\n",
    "            ],\n",
    "            \"filter\": [\n",
    "                {\n",
    "                    \"term\": {\n",
    "                        \"publication_type\": \"journal article\"\n",
    "                    }\n",
    "                }, {\n",
    "                    \"term\": {\n",
    "                        \"is_open_access\": \"true\"\n",
    "                    }\n",
    "                }\n",
    "            ]\n",
    "        }\n",
    "    },\n",
    "    \"include\": [\n",
    "        \"lens_id\",\n",
    "        \"title\",\n",
    "        \"year_published\",\n",
    "        \"open_access.colour\"\n",
    "    ],\n",
    "    \"sort\": [\n",
    "        {\n",
    "            \"year_published\": \"desc\"\n",
    "        }\n",
    "    ],\n",
    "    \"size\": 500\n",
    "}\n",
    "'''"
   ]
  },
  {
   "cell_type": "code",
   "execution_count": 17,
   "metadata": {},
   "outputs": [],
   "source": [
    "rr = RQ.post('https://api.lens.org/scholarly/search', data=payload, headers=headers)"
   ]
  },
  {
   "cell_type": "code",
   "execution_count": 18,
   "metadata": {},
   "outputs": [
    {
     "name": "stdout",
     "output_type": "stream",
     "text": [
      "Your request was successfull\n"
     ]
    }
   ],
   "source": [
    "if rr.status_code == 200:\n",
    "    print(f\"Your request was successfull\")\n",
    "else:\n",
    "    print(f\"Something went wrong. The return code was '{rr.status_code}'\")"
   ]
  },
  {
   "attachments": {},
   "cell_type": "markdown",
   "metadata": {},
   "source": [
    "## Using Pandas"
   ]
  },
  {
   "attachments": {},
   "cell_type": "markdown",
   "metadata": {},
   "source": [
    "Using [Pandas dataframe](https://pandas.pydata.org/pandas-docs/stable/reference/api/pandas.DataFrame.html) as container for our data. First we import the library"
   ]
  },
  {
   "cell_type": "code",
   "execution_count": 19,
   "metadata": {},
   "outputs": [],
   "source": [
    "import pandas as PD"
   ]
  },
  {
   "attachments": {},
   "cell_type": "markdown",
   "metadata": {},
   "source": [
    "Next we create a dataframe from the request object:"
   ]
  },
  {
   "cell_type": "code",
   "execution_count": 20,
   "metadata": {},
   "outputs": [],
   "source": [
    "text = JN.loads(rr.text)\n",
    "df = PD.DataFrame(text['data'])"
   ]
  },
  {
   "attachments": {},
   "cell_type": "markdown",
   "metadata": {},
   "source": [
    "Checking if the dataframe is correct:"
   ]
  },
  {
   "cell_type": "code",
   "execution_count": 21,
   "metadata": {},
   "outputs": [
    {
     "data": {
      "text/html": [
       "<div>\n",
       "<style scoped>\n",
       "    .dataframe tbody tr th:only-of-type {\n",
       "        vertical-align: middle;\n",
       "    }\n",
       "\n",
       "    .dataframe tbody tr th {\n",
       "        vertical-align: top;\n",
       "    }\n",
       "\n",
       "    .dataframe thead th {\n",
       "        text-align: right;\n",
       "    }\n",
       "</style>\n",
       "<table border=\"1\" class=\"dataframe\">\n",
       "  <thead>\n",
       "    <tr style=\"text-align: right;\">\n",
       "      <th></th>\n",
       "      <th>lens_id</th>\n",
       "      <th>title</th>\n",
       "      <th>year_published</th>\n",
       "      <th>open_access</th>\n",
       "    </tr>\n",
       "  </thead>\n",
       "  <tbody>\n",
       "    <tr>\n",
       "      <th>0</th>\n",
       "      <td>000-883-392-158-888</td>\n",
       "      <td>Poly(A)-DG: A deep-learning-based domain gener...</td>\n",
       "      <td>2020</td>\n",
       "      <td>{'colour': 'gold'}</td>\n",
       "    </tr>\n",
       "    <tr>\n",
       "      <th>1</th>\n",
       "      <td>002-453-593-170-202</td>\n",
       "      <td>In Situ Growth of Lithiophilic MOF Layer Enabl...</td>\n",
       "      <td>2020</td>\n",
       "      <td>{'colour': 'gold'}</td>\n",
       "    </tr>\n",
       "    <tr>\n",
       "      <th>2</th>\n",
       "      <td>000-999-964-665-354</td>\n",
       "      <td>Ultrafast Charge Dynamics in Dilute-Donor vers...</td>\n",
       "      <td>2020</td>\n",
       "      <td>{'colour': 'hybrid'}</td>\n",
       "    </tr>\n",
       "    <tr>\n",
       "      <th>3</th>\n",
       "      <td>007-457-455-708-625</td>\n",
       "      <td>A framework for experimental scenarios of glob...</td>\n",
       "      <td>2020</td>\n",
       "      <td>{'colour': 'gold'}</td>\n",
       "    </tr>\n",
       "    <tr>\n",
       "      <th>4</th>\n",
       "      <td>005-462-289-428-962</td>\n",
       "      <td>Classes of Full-Duplex Channels With Capacity ...</td>\n",
       "      <td>2020</td>\n",
       "      <td>{'colour': 'green'}</td>\n",
       "    </tr>\n",
       "  </tbody>\n",
       "</table>\n",
       "</div>"
      ],
      "text/plain": [
       "               lens_id                                              title  \\\n",
       "0  000-883-392-158-888  Poly(A)-DG: A deep-learning-based domain gener...   \n",
       "1  002-453-593-170-202  In Situ Growth of Lithiophilic MOF Layer Enabl...   \n",
       "2  000-999-964-665-354  Ultrafast Charge Dynamics in Dilute-Donor vers...   \n",
       "3  007-457-455-708-625  A framework for experimental scenarios of glob...   \n",
       "4  005-462-289-428-962  Classes of Full-Duplex Channels With Capacity ...   \n",
       "\n",
       "   year_published           open_access  \n",
       "0            2020    {'colour': 'gold'}  \n",
       "1            2020    {'colour': 'gold'}  \n",
       "2            2020  {'colour': 'hybrid'}  \n",
       "3            2020    {'colour': 'gold'}  \n",
       "4            2020   {'colour': 'green'}  "
      ]
     },
     "execution_count": 21,
     "metadata": {},
     "output_type": "execute_result"
    }
   ],
   "source": [
    "df.head()"
   ]
  },
  {
   "attachments": {},
   "cell_type": "markdown",
   "metadata": {},
   "source": [
    "We can access the dataframe as a dictionary:"
   ]
  },
  {
   "cell_type": "code",
   "execution_count": 22,
   "metadata": {},
   "outputs": [
    {
     "data": {
      "text/plain": [
       "0      000-883-392-158-888\n",
       "1      002-453-593-170-202\n",
       "2      000-999-964-665-354\n",
       "3      007-457-455-708-625\n",
       "4      005-462-289-428-962\n",
       "              ...         \n",
       "495    069-140-290-778-572\n",
       "496    070-878-495-309-549\n",
       "497    080-586-502-760-943\n",
       "498    081-347-569-585-738\n",
       "499    079-059-555-990-777\n",
       "Name: lens_id, Length: 500, dtype: object"
      ]
     },
     "execution_count": 22,
     "metadata": {},
     "output_type": "execute_result"
    }
   ],
   "source": [
    "df['lens_id']"
   ]
  },
  {
   "attachments": {},
   "cell_type": "markdown",
   "metadata": {},
   "source": [
    "Querying the data types of the dataframe. "
   ]
  },
  {
   "cell_type": "code",
   "execution_count": 23,
   "metadata": {},
   "outputs": [
    {
     "data": {
      "text/plain": [
       "lens_id           object\n",
       "title             object\n",
       "year_published     int64\n",
       "open_access       object\n",
       "dtype: object"
      ]
     },
     "execution_count": 23,
     "metadata": {},
     "output_type": "execute_result"
    }
   ],
   "source": [
    "df.dtypes"
   ]
  },
  {
   "attachments": {},
   "cell_type": "markdown",
   "metadata": {},
   "source": [
    "We can query for specific fields of the dataframe. For example, the _title_ and _open access colour_ of the 101th (the count starts at `0`) article."
   ]
  },
  {
   "cell_type": "code",
   "execution_count": 24,
   "metadata": {},
   "outputs": [
    {
     "name": "stdout",
     "output_type": "stream",
     "text": [
      "title: Assessing the age- and gender-dependence of the severity and case fatality rates of COVID-19 disease in Spain., open access colour: gold\n"
     ]
    }
   ],
   "source": [
    "print(f\"title: {df.iloc[100]['title']}, open access colour: {df.iloc[100]['open_access']['colour']}\")"
   ]
  },
  {
   "cell_type": "code",
   "execution_count": 25,
   "metadata": {},
   "outputs": [
    {
     "data": {
      "text/plain": [
       "{'colour': 'green'}     259\n",
       "{'colour': 'gold'}      147\n",
       "{'colour': 'hybrid'}     80\n",
       "{'colour': 'bronze'}      8\n",
       "{}                        6\n",
       "Name: open_access, dtype: int64"
      ]
     },
     "execution_count": 25,
     "metadata": {},
     "output_type": "execute_result"
    }
   ],
   "source": [
    "df['open_access'].value_counts()"
   ]
  },
  {
   "cell_type": "code",
   "execution_count": 26,
   "metadata": {},
   "outputs": [
    {
     "data": {
      "text/html": [
       "<div>\n",
       "<style scoped>\n",
       "    .dataframe tbody tr th:only-of-type {\n",
       "        vertical-align: middle;\n",
       "    }\n",
       "\n",
       "    .dataframe tbody tr th {\n",
       "        vertical-align: top;\n",
       "    }\n",
       "\n",
       "    .dataframe thead th {\n",
       "        text-align: right;\n",
       "    }\n",
       "</style>\n",
       "<table border=\"1\" class=\"dataframe\">\n",
       "  <thead>\n",
       "    <tr style=\"text-align: right;\">\n",
       "      <th></th>\n",
       "      <th>lens_id</th>\n",
       "      <th>title</th>\n",
       "      <th>year_published</th>\n",
       "      <th>open_access</th>\n",
       "    </tr>\n",
       "  </thead>\n",
       "  <tbody>\n",
       "    <tr>\n",
       "      <th>57</th>\n",
       "      <td>080-587-395-479-957</td>\n",
       "      <td>Solar Water Splitting: Over 17% Efficiency Sta...</td>\n",
       "      <td>2020</td>\n",
       "      <td>{'colour': 'bronze'}</td>\n",
       "    </tr>\n",
       "    <tr>\n",
       "      <th>63</th>\n",
       "      <td>126-123-125-201-260</td>\n",
       "      <td>A pseudo-kinetic model to simulate phase chang...</td>\n",
       "      <td>2020</td>\n",
       "      <td>{'colour': 'bronze'}</td>\n",
       "    </tr>\n",
       "    <tr>\n",
       "      <th>144</th>\n",
       "      <td>161-191-262-426-101</td>\n",
       "      <td>Global adjoint tomography—model GLAD-M25</td>\n",
       "      <td>2020</td>\n",
       "      <td>{'colour': 'bronze'}</td>\n",
       "    </tr>\n",
       "    <tr>\n",
       "      <th>164</th>\n",
       "      <td>004-044-936-135-704</td>\n",
       "      <td>Author Correction: Efficient near-infrared lig...</td>\n",
       "      <td>2020</td>\n",
       "      <td>{'colour': 'bronze'}</td>\n",
       "    </tr>\n",
       "    <tr>\n",
       "      <th>213</th>\n",
       "      <td>118-117-899-312-545</td>\n",
       "      <td>High-Resolution Operational Ocean Forecast and...</td>\n",
       "      <td>2020</td>\n",
       "      <td>{'colour': 'bronze'}</td>\n",
       "    </tr>\n",
       "    <tr>\n",
       "      <th>255</th>\n",
       "      <td>040-314-227-624-903</td>\n",
       "      <td>Anisotropic Growth of Al-Intercalated Vanadate...</td>\n",
       "      <td>2020</td>\n",
       "      <td>{'colour': 'bronze'}</td>\n",
       "    </tr>\n",
       "    <tr>\n",
       "      <th>270</th>\n",
       "      <td>079-195-414-281-623</td>\n",
       "      <td>Uncovering Atomic and Nano-scale Deformations ...</td>\n",
       "      <td>2020</td>\n",
       "      <td>{'colour': 'bronze'}</td>\n",
       "    </tr>\n",
       "    <tr>\n",
       "      <th>275</th>\n",
       "      <td>097-933-906-728-238</td>\n",
       "      <td>A Prolonged High-Salinity Event in the Norther...</td>\n",
       "      <td>2020</td>\n",
       "      <td>{'colour': 'bronze'}</td>\n",
       "    </tr>\n",
       "  </tbody>\n",
       "</table>\n",
       "</div>"
      ],
      "text/plain": [
       "                 lens_id                                              title  \\\n",
       "57   080-587-395-479-957  Solar Water Splitting: Over 17% Efficiency Sta...   \n",
       "63   126-123-125-201-260  A pseudo-kinetic model to simulate phase chang...   \n",
       "144  161-191-262-426-101           Global adjoint tomography—model GLAD-M25   \n",
       "164  004-044-936-135-704  Author Correction: Efficient near-infrared lig...   \n",
       "213  118-117-899-312-545  High-Resolution Operational Ocean Forecast and...   \n",
       "255  040-314-227-624-903  Anisotropic Growth of Al-Intercalated Vanadate...   \n",
       "270  079-195-414-281-623  Uncovering Atomic and Nano-scale Deformations ...   \n",
       "275  097-933-906-728-238  A Prolonged High-Salinity Event in the Norther...   \n",
       "\n",
       "     year_published           open_access  \n",
       "57             2020  {'colour': 'bronze'}  \n",
       "63             2020  {'colour': 'bronze'}  \n",
       "144            2020  {'colour': 'bronze'}  \n",
       "164            2020  {'colour': 'bronze'}  \n",
       "213            2020  {'colour': 'bronze'}  \n",
       "255            2020  {'colour': 'bronze'}  \n",
       "270            2020  {'colour': 'bronze'}  \n",
       "275            2020  {'colour': 'bronze'}  "
      ]
     },
     "execution_count": 26,
     "metadata": {},
     "output_type": "execute_result"
    }
   ],
   "source": [
    "df[df['open_access'] == {'colour': 'bronze'}]"
   ]
  }
 ],
 "metadata": {
  "kernelspec": {
   "display_name": "Python 3 (ipykernel)",
   "language": "python",
   "name": "python3"
  },
  "language_info": {
   "codemirror_mode": {
    "name": "ipython",
    "version": 3
   },
   "file_extension": ".py",
   "mimetype": "text/x-python",
   "name": "python",
   "nbconvert_exporter": "python",
   "pygments_lexer": "ipython3",
   "version": "3.10.9"
  }
 },
 "nbformat": 4,
 "nbformat_minor": 4
}
