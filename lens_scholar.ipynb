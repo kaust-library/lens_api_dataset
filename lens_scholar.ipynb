{
 "cells": [
  {
   "cell_type": "markdown",
   "metadata": {},
   "source": [
    "# APIs and Datasets for Scholarly Publications "
   ]
  },
  {
   "cell_type": "markdown",
   "metadata": {},
   "source": [
    "Using [lens.org](https://www.lens.org/) API for scholarly data."
   ]
  },
  {
   "cell_type": "markdown",
   "metadata": {},
   "source": [
    "## Prerequisites\n",
    "\n",
    "1. Clone the [GitHub repository](https://github.com/kaust-library/using_lens_org): https://github.com/kaust-library/using_lens_org\n",
    "1. Create your virtual environment: `python -m venv venv`.\n",
    "1. Activate your environment: `. .\\venv\\Scripts\\activate`. (Windows platform) or `. venv/bin/activate` (Linux)\n",
    "1. Install the required packages: `pip install -r requirements.txt`."
   ]
  },
  {
   "cell_type": "markdown",
   "metadata": {},
   "source": [
    "## Loading the Packages and Env File"
   ]
  },
  {
   "cell_type": "markdown",
   "metadata": {},
   "source": [
    "Load the packages"
   ]
  },
  {
   "cell_type": "code",
   "execution_count": 1,
   "metadata": {},
   "outputs": [],
   "source": [
    "import dotenv as DE\n",
    "import os as OS\n",
    "import requests as RQ\n",
    "import pprint as PP\n",
    "import json as JN\n",
    "import csv as CSV\n",
    "import pandas as PD"
   ]
  },
  {
   "cell_type": "markdown",
   "metadata": {},
   "source": [
    "You may need to create a `.env` file with your _token_ on _root_ directory of your project\n",
    "\n",
    "```\n",
    "(venv) PS C:\\Users\\garcm0b\\Work\\lens_org> cat .env\n",
    "MY_TOKEN=(...)\n",
    "(venv) PS C:\\Users\\garcm0b\\Work\\lens_org>\n",
    "```\n",
    "\n",
    "Make sure that your `.env` file is in the `.gitignore` file, so we will not upload your credential by accident."
   ]
  },
  {
   "cell_type": "code",
   "execution_count": 2,
   "metadata": {},
   "outputs": [],
   "source": [
    "DE.load_dotenv()\n",
    "api_passwd = OS.environ['MY_TOKEN']"
   ]
  },
  {
   "attachments": {},
   "cell_type": "markdown",
   "metadata": {},
   "source": [
    "## Example"
   ]
  },
  {
   "attachments": {},
   "cell_type": "markdown",
   "metadata": {},
   "source": [
    "### Simple Search"
   ]
  },
  {
   "cell_type": "markdown",
   "metadata": {},
   "source": [
    "Using the [`requests`](https://docs.python-requests.org/en/latest/index.html) library to test the Lens.org API. We use a singple example from the Swager API test page. Here we see simple query with some fields:\n",
    "\n",
    "* [Query](https://docs.api.lens.org/request-scholar.html#terms-query): operates in a single term and search for _exact_ term in the field provided.\n",
    "* [Match](https://docs.api.lens.org/request-scholar.html#match-query): the main use case of the match query is full-text search. It matches each words separately.\n",
    "* [From/Size](https://docs.api.lens.org/request-scholar.html#offsetsize-based-pagination): use parameter `from` to define the offset and `size` to specify number of records expected.\n",
    "* [Include/Exclude](https://docs.api.lens.org/request-scholar.html#projection): only request specific fields from the API endpoint.\n",
    "* [Sort](https://docs.api.lens.org/request-scholar.html#sorting): result can be retrieved in ascending or descending order.\n",
    "* [Scroll/Scroll_id](https://docs.api.lens.org/request-scholar.html#cursor-based-pagination): You can specify records per page using `size` (default 20 and max 1000) and context alive time `scroll` (default 1 minute). You will receive a `scroll_id` in response, which should be passed via request body to access next set of results."
   ]
  },
  {
   "cell_type": "code",
   "execution_count": 3,
   "metadata": {},
   "outputs": [],
   "source": [
    "headers= {\"Authorization\": api_passwd, \"Content-Type\": \"application/json\"}"
   ]
  },
  {
   "cell_type": "code",
   "execution_count": 4,
   "metadata": {},
   "outputs": [],
   "source": [
    "payload = '''\n",
    "{\n",
    "  \"query\": {\n",
    "    \"match\": {\n",
    "      \"title\": \"Malaria\"\n",
    "    }\n",
    "  },\n",
    "  \"size\": 5,\n",
    "  \"from\": 0,\n",
    "  \"include\": [\n",
    "    \"title\",\n",
    "    \"lens_id\",\n",
    "    \"patent_citations_count\"\n",
    "  ],\n",
    "  \"sort\": [\n",
    "    {\n",
    "      \"created\": \"desc\"\n",
    "    },\n",
    "    {\n",
    "      \"year_published\": \"asc\"\n",
    "    }\n",
    "  ],\n",
    "  \"exclude\": null,\n",
    "  \"scroll\": null,\n",
    "  \"scroll_id\": null\n",
    "}\n",
    "'''\n",
    "\n",
    "rr = RQ.post('https://api.lens.org/scholarly/search', data=payload, headers=headers)"
   ]
  },
  {
   "cell_type": "markdown",
   "metadata": {},
   "source": [
    "After the query, we check if our request was successful or not by checking the `status_code`. The value `200` means a valid answer from the server, and [any other value](https://docs.api.lens.org/getting-started.html#http-responses) means an error. Next we print the result of the query:"
   ]
  },
  {
   "cell_type": "code",
   "execution_count": 5,
   "metadata": {},
   "outputs": [
    {
     "name": "stdout",
     "output_type": "stream",
     "text": [
      "Your request was successfull\n",
      "('{\"total\":107644,\"data\":[{\"lens_id\":\"189-780-393-989-766\",\"title\":\"A world '\n",
      " 'free of malaria: It is time for Africa to actively champion and take '\n",
      " 'leadership of elimination and eradication '\n",
      " 'strategies\"},{\"lens_id\":\"085-144-192-014-163\",\"title\":\"Reflections from the '\n",
      " 'first South Sudan malaria '\n",
      " 'conference\"},{\"lens_id\":\"091-205-353-493-016\",\"title\":\"ASYMPTOMATIC MALARIA '\n",
      " 'INFECTION AND ANAEMIA AMONG SECONDARY SCHOOL CHILDREN IN IPOGUN, ONDO STATE, '\n",
      " 'NIGERIA\"},{\"lens_id\":\"007-476-373-861-646\",\"title\":\"EFFECT OF MALARIA ON '\n",
      " 'VISUAL ACUITY (V.A)\"},{\"lens_id\":\"027-325-084-244-85X\",\"title\":\"Peer Review '\n",
      " '#2 of Cohesin is involved in transcriptional repression of stage-specific '\n",
      " 'genes in the human malaria parasite\"}],\"results\":5}')\n"
     ]
    }
   ],
   "source": [
    "if rr.status_code == 200:\n",
    "    print(f\"Your request was successfull\")\n",
    "    PP.pprint(rr.text)\n",
    "else:\n",
    "    print(f\"Something went wrong. The return code was '{rr.status_code}'\")"
   ]
  },
  {
   "attachments": {},
   "cell_type": "markdown",
   "metadata": {},
   "source": [
    "## Creating a Dataframe"
   ]
  },
  {
   "attachments": {},
   "cell_type": "markdown",
   "metadata": {},
   "source": [
    "Using [Pandas dataframe](https://pandas.pydata.org/pandas-docs/stable/reference/api/pandas.DataFrame.html) as container for our data:"
   ]
  },
  {
   "cell_type": "code",
   "execution_count": 6,
   "metadata": {},
   "outputs": [],
   "source": [
    "text = JN.loads(rr.text)\n",
    "df = PD.DataFrame(text['data'])"
   ]
  },
  {
   "attachments": {},
   "cell_type": "markdown",
   "metadata": {},
   "source": [
    "## Saving to CSV File"
   ]
  },
  {
   "attachments": {},
   "cell_type": "markdown",
   "metadata": {},
   "source": [
    "The next example we query for the articles with abstract, and we save the output to a CSV file. This can be further expanded by tokenizing the abstract, and using tokens for Machine Learning."
   ]
  },
  {
   "cell_type": "code",
   "execution_count": 7,
   "metadata": {},
   "outputs": [],
   "source": [
    "payload = '''{\n",
    "     \"query\": {\n",
    "        \"bool\": {\n",
    "            \"must\": [\n",
    "                {\n",
    "                    \"query_string\": {\n",
    "                        \"query\": \"catalyzed\",\n",
    "                        \"fields\": [\n",
    "                            \"title\",\n",
    "                            \"abstract\",\n",
    "                            \"full_text\"\n",
    "                        ],\n",
    "                        \"default_operator\": \"or\"\n",
    "                    }\n",
    "                }\n",
    "            ],\n",
    "            \"filter\": [\n",
    "                {\n",
    "                    \"term\": {\n",
    "                        \"has_abstract\": true\n",
    "                    }\n",
    "                }\n",
    "            ]\n",
    "        }\n",
    "    },\n",
    "     \"size\": 10\n",
    "}\n",
    "'''"
   ]
  },
  {
   "cell_type": "code",
   "execution_count": 8,
   "metadata": {},
   "outputs": [],
   "source": [
    "rr = RQ.post('https://api.lens.org/scholarly/search', data=payload, headers=headers)"
   ]
  },
  {
   "attachments": {},
   "cell_type": "markdown",
   "metadata": {},
   "source": [
    "### Pure Python"
   ]
  },
  {
   "attachments": {},
   "cell_type": "markdown",
   "metadata": {},
   "source": [
    "Using pure Python to save to a CSV file:"
   ]
  },
  {
   "cell_type": "markdown",
   "metadata": {},
   "source": [
    "The function below is to extract the first and last name of the author(s). The problem is that in the answer, the authors is a [structure with several fields](https://docs.api.lens.org/response-scholar.html#author), like affiliations, ids, initials, etc. Here we just want the name, and in the case of more than one author, we use a different character (`;`) so we don't mix with commas separating the fields."
   ]
  },
  {
   "cell_type": "code",
   "execution_count": 9,
   "metadata": {},
   "outputs": [],
   "source": [
    "def get_authors(aulist: list) -> str:\n",
    "    \"\"\"\n",
    "    Return the author's first and lastname.\n",
    "    \"\"\"\n",
    "    \n",
    "    count = len(aulist)\n",
    "    if count == 1:\n",
    "        return aulist[0]['first_name'] + \" \" + aulist[0]['last_name']\n",
    "    else:\n",
    "        names = \"\"\n",
    "        for aa in aulist:\n",
    "            names += aa['first_name'] + \" \" + aa['last_name'] + \"; \"\n",
    "        # hack: remove the last '; '.\n",
    "        names = names[:-2]\n",
    "    \n",
    "        return names"
   ]
  },
  {
   "attachments": {},
   "cell_type": "markdown",
   "metadata": {},
   "source": [
    "We use the method [`loads`](https://docs.python.org/3/library/json.html#json.loads) to read the output from our request into a JSON object. Next we will save the JSON items as a CSV file. To write the CSV file we'll use the [DictWriter](https://docs.python.org/3.10/library/csv.html#csv.DictWriter) method."
   ]
  },
  {
   "cell_type": "code",
   "execution_count": 10,
   "metadata": {},
   "outputs": [],
   "source": [
    "text = JN.loads(rr.text)\n",
    "data = text['data']\n",
    "\n",
    "fields = ['lens_id', 'title', 'year_published', 'authors', 'abstract']\n",
    "row_csv = []\n",
    "\n",
    "for dd in data:\n",
    "    row = {}\n",
    "    for ff in fields:\n",
    "        row.update({ff: dd[ff]})\n",
    "    row['authors'] = get_authors(dd['authors'])\n",
    "    row_csv.append(row)\n",
    "\n",
    "with open('metadata.csv', \"w\", newline=\"\", encoding='utf-8') as csvfile:\n",
    "    writer = CSV.DictWriter(csvfile, fieldnames=fields)\n",
    "    writer.writeheader()\n",
    "    writer.writerows(row_csv)"
   ]
  },
  {
   "cell_type": "markdown",
   "metadata": {},
   "source": [
    "Let's give an example of authors as given by the API and after our function:"
   ]
  },
  {
   "cell_type": "code",
   "execution_count": 11,
   "metadata": {},
   "outputs": [
    {
     "name": "stdout",
     "output_type": "stream",
     "text": [
      "First the output from the API:\n",
      "[{'affiliations': [],\n",
      "  'first_name': 'Andrei K.',\n",
      "  'ids': [{'type': 'magid', 'value': '1890584584'}],\n",
      "  'initials': 'AK',\n",
      "  'last_name': 'Yudin'},\n",
      " {'affiliations': [],\n",
      "  'first_name': 'John F.',\n",
      "  'ids': [{'type': 'magid', 'value': '2091457642'}],\n",
      "  'initials': 'JF',\n",
      "  'last_name': 'Hartwig'}]\n",
      "\n",
      "After the function 'get_authors'\n",
      "'Andrei K. Yudin; John F. Hartwig'\n"
     ]
    }
   ],
   "source": [
    "print(\"First the output from the API:\")\n",
    "PP.pprint(dd['authors'])\n",
    "print(\"\\nAfter the function 'get_authors'\")\n",
    "PP.pprint(row['authors'])"
   ]
  },
  {
   "attachments": {},
   "cell_type": "markdown",
   "metadata": {},
   "source": [
    "### Pandas"
   ]
  },
  {
   "attachments": {},
   "cell_type": "markdown",
   "metadata": {},
   "source": [
    "This is an interesing example of using the `apply` method to apply a function to a column of the dataframe. Next we save just some fields on the CSV file."
   ]
  },
  {
   "cell_type": "code",
   "execution_count": 12,
   "metadata": {},
   "outputs": [],
   "source": [
    "text = JN.loads(rr.text)\n",
    "df = PD.DataFrame(text['data'])\n",
    "df['authors'] = df['authors'].apply(get_authors)\n",
    "df.to_csv('metadata_pd.csv', index=False, columns=['lens_id', 'title', 'year_published', 'authors', 'abstract'])"
   ]
  },
  {
   "attachments": {},
   "cell_type": "markdown",
   "metadata": {},
   "source": [
    "## Working with Fields"
   ]
  },
  {
   "cell_type": "code",
   "execution_count": 13,
   "metadata": {},
   "outputs": [],
   "source": [
    "payload = '''{\n",
    "    \"query\": {\n",
    "        \"bool\": {\n",
    "            \"must\": [\n",
    "                {\n",
    "                    \"match_phrase\":{\n",
    "                        \"author.affiliation.name\": \"King Abdullah University of Science and Technology\"\n",
    "                    }\n",
    "                }, {\n",
    "                    \"range\": {\n",
    "                        \"year_published\": {\n",
    "                            \"gte\": \"2018\",\n",
    "                            \"lte\": \"2020\"\n",
    "                        }\n",
    "                    }                \n",
    "                }\n",
    "            ],\n",
    "            \"filter\": [\n",
    "                {\n",
    "                    \"term\": {\n",
    "                        \"publication_type\": \"journal article\"\n",
    "                    }\n",
    "                }, {\n",
    "                    \"term\": {\n",
    "                        \"is_open_access\": \"true\"\n",
    "                    }\n",
    "                }\n",
    "            ]\n",
    "        }\n",
    "    },\n",
    "    \"include\": [\n",
    "        \"lens_id\",\n",
    "        \"title\",\n",
    "        \"year_published\",\n",
    "        \"open_access.colour\"\n",
    "    ],\n",
    "    \"sort\": [\n",
    "        {\n",
    "            \"year_published\": \"desc\"\n",
    "        }\n",
    "    ],\n",
    "    \"size\": 500\n",
    "}\n",
    "'''"
   ]
  },
  {
   "cell_type": "code",
   "execution_count": 14,
   "metadata": {},
   "outputs": [],
   "source": [
    "rr = RQ.post('https://api.lens.org/scholarly/search', data=payload, headers=headers)"
   ]
  },
  {
   "cell_type": "code",
   "execution_count": 15,
   "metadata": {},
   "outputs": [
    {
     "name": "stdout",
     "output_type": "stream",
     "text": [
      "Your request was successfull\n"
     ]
    }
   ],
   "source": [
    "if rr.status_code == 200:\n",
    "    print(f\"Your request was successfull\")\n",
    "else:\n",
    "    print(f\"Something went wrong. The return code was '{rr.status_code}'\")"
   ]
  },
  {
   "cell_type": "code",
   "execution_count": 16,
   "metadata": {},
   "outputs": [],
   "source": [
    "text = JN.loads(rr.text)\n",
    "df = PD.DataFrame(text['data'])"
   ]
  },
  {
   "attachments": {},
   "cell_type": "markdown",
   "metadata": {},
   "source": [
    "Checking if the dataframe is correct:"
   ]
  },
  {
   "cell_type": "code",
   "execution_count": 17,
   "metadata": {},
   "outputs": [
    {
     "data": {
      "text/html": [
       "<div>\n",
       "<style scoped>\n",
       "    .dataframe tbody tr th:only-of-type {\n",
       "        vertical-align: middle;\n",
       "    }\n",
       "\n",
       "    .dataframe tbody tr th {\n",
       "        vertical-align: top;\n",
       "    }\n",
       "\n",
       "    .dataframe thead th {\n",
       "        text-align: right;\n",
       "    }\n",
       "</style>\n",
       "<table border=\"1\" class=\"dataframe\">\n",
       "  <thead>\n",
       "    <tr style=\"text-align: right;\">\n",
       "      <th></th>\n",
       "      <th>lens_id</th>\n",
       "      <th>title</th>\n",
       "      <th>year_published</th>\n",
       "      <th>open_access</th>\n",
       "    </tr>\n",
       "  </thead>\n",
       "  <tbody>\n",
       "    <tr>\n",
       "      <th>0</th>\n",
       "      <td>000-883-392-158-888</td>\n",
       "      <td>Poly(A)-DG: A deep-learning-based domain gener...</td>\n",
       "      <td>2020</td>\n",
       "      <td>{'colour': 'gold'}</td>\n",
       "    </tr>\n",
       "    <tr>\n",
       "      <th>1</th>\n",
       "      <td>002-453-593-170-202</td>\n",
       "      <td>In Situ Growth of Lithiophilic MOF Layer Enabl...</td>\n",
       "      <td>2020</td>\n",
       "      <td>{'colour': 'gold'}</td>\n",
       "    </tr>\n",
       "    <tr>\n",
       "      <th>2</th>\n",
       "      <td>000-999-964-665-354</td>\n",
       "      <td>Ultrafast Charge Dynamics in Dilute-Donor vers...</td>\n",
       "      <td>2020</td>\n",
       "      <td>{'colour': 'hybrid'}</td>\n",
       "    </tr>\n",
       "    <tr>\n",
       "      <th>3</th>\n",
       "      <td>007-457-455-708-625</td>\n",
       "      <td>A framework for experimental scenarios of glob...</td>\n",
       "      <td>2020</td>\n",
       "      <td>{'colour': 'gold'}</td>\n",
       "    </tr>\n",
       "    <tr>\n",
       "      <th>4</th>\n",
       "      <td>005-462-289-428-962</td>\n",
       "      <td>Classes of Full-Duplex Channels With Capacity ...</td>\n",
       "      <td>2020</td>\n",
       "      <td>{'colour': 'green'}</td>\n",
       "    </tr>\n",
       "  </tbody>\n",
       "</table>\n",
       "</div>"
      ],
      "text/plain": [
       "               lens_id                                              title  \\\n",
       "0  000-883-392-158-888  Poly(A)-DG: A deep-learning-based domain gener...   \n",
       "1  002-453-593-170-202  In Situ Growth of Lithiophilic MOF Layer Enabl...   \n",
       "2  000-999-964-665-354  Ultrafast Charge Dynamics in Dilute-Donor vers...   \n",
       "3  007-457-455-708-625  A framework for experimental scenarios of glob...   \n",
       "4  005-462-289-428-962  Classes of Full-Duplex Channels With Capacity ...   \n",
       "\n",
       "   year_published           open_access  \n",
       "0            2020    {'colour': 'gold'}  \n",
       "1            2020    {'colour': 'gold'}  \n",
       "2            2020  {'colour': 'hybrid'}  \n",
       "3            2020    {'colour': 'gold'}  \n",
       "4            2020   {'colour': 'green'}  "
      ]
     },
     "execution_count": 17,
     "metadata": {},
     "output_type": "execute_result"
    }
   ],
   "source": [
    "df.head()"
   ]
  },
  {
   "attachments": {},
   "cell_type": "markdown",
   "metadata": {},
   "source": [
    "We can query for specific fields of the dataframe. For example, the _title_ and _open access colour_ of the 101th (the count starts at `0`) article."
   ]
  },
  {
   "cell_type": "code",
   "execution_count": 18,
   "metadata": {},
   "outputs": [
    {
     "name": "stdout",
     "output_type": "stream",
     "text": [
      "title: Assessing the age- and gender-dependence of the severity and case fatality rates of COVID-19 disease in Spain., open access colour: gold\n"
     ]
    }
   ],
   "source": [
    "print(f\"title: {df.iloc[100]['title']}, open access colour: {df.iloc[100]['open_access']['colour']}\")"
   ]
  },
  {
   "attachments": {},
   "cell_type": "markdown",
   "metadata": {},
   "source": [
    "We can see the distribution of the access policy:"
   ]
  },
  {
   "cell_type": "code",
   "execution_count": 19,
   "metadata": {},
   "outputs": [
    {
     "data": {
      "text/plain": [
       "{'colour': 'green'}     259\n",
       "{'colour': 'gold'}      147\n",
       "{'colour': 'hybrid'}     80\n",
       "{'colour': 'bronze'}      8\n",
       "{}                        6\n",
       "Name: open_access, dtype: int64"
      ]
     },
     "execution_count": 19,
     "metadata": {},
     "output_type": "execute_result"
    }
   ],
   "source": [
    "df['open_access'].value_counts()"
   ]
  },
  {
   "cell_type": "code",
   "execution_count": 20,
   "metadata": {},
   "outputs": [
    {
     "data": {
      "text/html": [
       "<div>\n",
       "<style scoped>\n",
       "    .dataframe tbody tr th:only-of-type {\n",
       "        vertical-align: middle;\n",
       "    }\n",
       "\n",
       "    .dataframe tbody tr th {\n",
       "        vertical-align: top;\n",
       "    }\n",
       "\n",
       "    .dataframe thead th {\n",
       "        text-align: right;\n",
       "    }\n",
       "</style>\n",
       "<table border=\"1\" class=\"dataframe\">\n",
       "  <thead>\n",
       "    <tr style=\"text-align: right;\">\n",
       "      <th></th>\n",
       "      <th>lens_id</th>\n",
       "      <th>title</th>\n",
       "      <th>year_published</th>\n",
       "      <th>open_access</th>\n",
       "    </tr>\n",
       "  </thead>\n",
       "  <tbody>\n",
       "    <tr>\n",
       "      <th>57</th>\n",
       "      <td>080-587-395-479-957</td>\n",
       "      <td>Solar Water Splitting: Over 17% Efficiency Sta...</td>\n",
       "      <td>2020</td>\n",
       "      <td>{'colour': 'bronze'}</td>\n",
       "    </tr>\n",
       "    <tr>\n",
       "      <th>63</th>\n",
       "      <td>126-123-125-201-260</td>\n",
       "      <td>A pseudo-kinetic model to simulate phase chang...</td>\n",
       "      <td>2020</td>\n",
       "      <td>{'colour': 'bronze'}</td>\n",
       "    </tr>\n",
       "    <tr>\n",
       "      <th>144</th>\n",
       "      <td>161-191-262-426-101</td>\n",
       "      <td>Global adjoint tomography—model GLAD-M25</td>\n",
       "      <td>2020</td>\n",
       "      <td>{'colour': 'bronze'}</td>\n",
       "    </tr>\n",
       "    <tr>\n",
       "      <th>164</th>\n",
       "      <td>004-044-936-135-704</td>\n",
       "      <td>Author Correction: Efficient near-infrared lig...</td>\n",
       "      <td>2020</td>\n",
       "      <td>{'colour': 'bronze'}</td>\n",
       "    </tr>\n",
       "    <tr>\n",
       "      <th>213</th>\n",
       "      <td>118-117-899-312-545</td>\n",
       "      <td>High-Resolution Operational Ocean Forecast and...</td>\n",
       "      <td>2020</td>\n",
       "      <td>{'colour': 'bronze'}</td>\n",
       "    </tr>\n",
       "    <tr>\n",
       "      <th>255</th>\n",
       "      <td>040-314-227-624-903</td>\n",
       "      <td>Anisotropic Growth of Al-Intercalated Vanadate...</td>\n",
       "      <td>2020</td>\n",
       "      <td>{'colour': 'bronze'}</td>\n",
       "    </tr>\n",
       "    <tr>\n",
       "      <th>270</th>\n",
       "      <td>079-195-414-281-623</td>\n",
       "      <td>Uncovering Atomic and Nano-scale Deformations ...</td>\n",
       "      <td>2020</td>\n",
       "      <td>{'colour': 'bronze'}</td>\n",
       "    </tr>\n",
       "    <tr>\n",
       "      <th>275</th>\n",
       "      <td>097-933-906-728-238</td>\n",
       "      <td>A Prolonged High-Salinity Event in the Norther...</td>\n",
       "      <td>2020</td>\n",
       "      <td>{'colour': 'bronze'}</td>\n",
       "    </tr>\n",
       "  </tbody>\n",
       "</table>\n",
       "</div>"
      ],
      "text/plain": [
       "                 lens_id                                              title  \\\n",
       "57   080-587-395-479-957  Solar Water Splitting: Over 17% Efficiency Sta...   \n",
       "63   126-123-125-201-260  A pseudo-kinetic model to simulate phase chang...   \n",
       "144  161-191-262-426-101           Global adjoint tomography—model GLAD-M25   \n",
       "164  004-044-936-135-704  Author Correction: Efficient near-infrared lig...   \n",
       "213  118-117-899-312-545  High-Resolution Operational Ocean Forecast and...   \n",
       "255  040-314-227-624-903  Anisotropic Growth of Al-Intercalated Vanadate...   \n",
       "270  079-195-414-281-623  Uncovering Atomic and Nano-scale Deformations ...   \n",
       "275  097-933-906-728-238  A Prolonged High-Salinity Event in the Norther...   \n",
       "\n",
       "     year_published           open_access  \n",
       "57             2020  {'colour': 'bronze'}  \n",
       "63             2020  {'colour': 'bronze'}  \n",
       "144            2020  {'colour': 'bronze'}  \n",
       "164            2020  {'colour': 'bronze'}  \n",
       "213            2020  {'colour': 'bronze'}  \n",
       "255            2020  {'colour': 'bronze'}  \n",
       "270            2020  {'colour': 'bronze'}  \n",
       "275            2020  {'colour': 'bronze'}  "
      ]
     },
     "execution_count": 20,
     "metadata": {},
     "output_type": "execute_result"
    }
   ],
   "source": [
    "df[df['open_access'] == {'colour': 'bronze'}]"
   ]
  },
  {
   "attachments": {},
   "cell_type": "markdown",
   "metadata": {},
   "source": [
    "Next we repeat the query from the term _catalyzed_ including the items with _open access_ policy"
   ]
  },
  {
   "cell_type": "code",
   "execution_count": 21,
   "metadata": {},
   "outputs": [
    {
     "name": "stdout",
     "output_type": "stream",
     "text": [
      "Your request was successfull\n"
     ]
    }
   ],
   "source": [
    "payload = '''{\n",
    "    \"query\": {\n",
    "        \"bool\": {\n",
    "            \"must\": [\n",
    "                {\n",
    "                    \"query_string\": {\n",
    "                        \"query\": \"catalyzed\",\n",
    "                        \"fields\": [\n",
    "                            \"title\",\n",
    "                            \"abstract\",\n",
    "                            \"full_text\"\n",
    "                        ],\n",
    "                        \"default_operator\": \"or\"\n",
    "                    }\n",
    "                }\n",
    "            ],\n",
    "            \"filter\": [\n",
    "                {\n",
    "                    \"term\": {\n",
    "                        \"is_open_access\": \"true\"\n",
    "                    }\n",
    "                }\n",
    "            ]\n",
    "        }\n",
    "    },\n",
    "     \"size\": 100\n",
    "}\n",
    "'''\n",
    "\n",
    "rr = RQ.post('https://api.lens.org/scholarly/search', data=payload, headers=headers)\n",
    "\n",
    "if rr.status_code == 200:\n",
    "    print(f\"Your request was successfull\")\n",
    "else:\n",
    "    print(f\"Something went wrong. The return code was '{rr.status_code}'\")"
   ]
  },
  {
   "cell_type": "code",
   "execution_count": 22,
   "metadata": {},
   "outputs": [],
   "source": [
    "text = JN.loads(rr.text)\n",
    "df = PD.DataFrame(text['data'])"
   ]
  },
  {
   "cell_type": "code",
   "execution_count": 23,
   "metadata": {},
   "outputs": [
    {
     "data": {
      "text/html": [
       "<div>\n",
       "<style scoped>\n",
       "    .dataframe tbody tr th:only-of-type {\n",
       "        vertical-align: middle;\n",
       "    }\n",
       "\n",
       "    .dataframe tbody tr th {\n",
       "        vertical-align: top;\n",
       "    }\n",
       "\n",
       "    .dataframe thead th {\n",
       "        text-align: right;\n",
       "    }\n",
       "</style>\n",
       "<table border=\"1\" class=\"dataframe\">\n",
       "  <thead>\n",
       "    <tr style=\"text-align: right;\">\n",
       "      <th></th>\n",
       "      <th>lens_id</th>\n",
       "      <th>title</th>\n",
       "      <th>publication_type</th>\n",
       "      <th>year_published</th>\n",
       "      <th>date_published</th>\n",
       "      <th>date_published_parts</th>\n",
       "      <th>created</th>\n",
       "      <th>external_ids</th>\n",
       "      <th>open_access</th>\n",
       "      <th>authors</th>\n",
       "      <th>...</th>\n",
       "      <th>scholarly_citations</th>\n",
       "      <th>author_count</th>\n",
       "      <th>is_open_access</th>\n",
       "      <th>patent_citations</th>\n",
       "      <th>patent_citations_count</th>\n",
       "      <th>publication_supplementary_type</th>\n",
       "      <th>mesh_terms</th>\n",
       "      <th>chemicals</th>\n",
       "      <th>funding</th>\n",
       "      <th>keywords</th>\n",
       "    </tr>\n",
       "  </thead>\n",
       "  <tbody>\n",
       "    <tr>\n",
       "      <th>0</th>\n",
       "      <td>001-085-590-248-665</td>\n",
       "      <td>Theoretical Studies on the Addition Reactions ...</td>\n",
       "      <td>journal article</td>\n",
       "      <td>2008.0</td>\n",
       "      <td>2008-07-20T00:00:00.000000+00:00</td>\n",
       "      <td>[2008, 7, 20]</td>\n",
       "      <td>2018-05-11T20:33:24.230000+00:00</td>\n",
       "      <td>[{'type': 'magid', 'value': '2100529744'}, {'t...</td>\n",
       "      <td>{'colour': 'bronze'}</td>\n",
       "      <td>[{'first_name': 'Chang Kon', 'last_name': 'Kim...</td>\n",
       "      <td>...</td>\n",
       "      <td>[032-363-097-009-822, 033-768-753-171-206, 073...</td>\n",
       "      <td>6.0</td>\n",
       "      <td>True</td>\n",
       "      <td>NaN</td>\n",
       "      <td>NaN</td>\n",
       "      <td>NaN</td>\n",
       "      <td>NaN</td>\n",
       "      <td>NaN</td>\n",
       "      <td>NaN</td>\n",
       "      <td>NaN</td>\n",
       "    </tr>\n",
       "    <tr>\n",
       "      <th>1</th>\n",
       "      <td>001-337-217-179-970</td>\n",
       "      <td>Adenylate Kinase-catalyzed Phosphoryl Transfer...</td>\n",
       "      <td>journal article</td>\n",
       "      <td>1995.0</td>\n",
       "      <td>1995-03-31T00:00:00.000000+00:00</td>\n",
       "      <td>[1995, 3, 31]</td>\n",
       "      <td>2018-05-08T19:55:24.404000+00:00</td>\n",
       "      <td>[{'type': 'magid', 'value': '2069998681'}, {'t...</td>\n",
       "      <td>{'license': 'CC BY, CC BY-NC-ND', 'colour': 'g...</td>\n",
       "      <td>[{'first_name': 'Robert J.', 'last_name': 'Zel...</td>\n",
       "      <td>...</td>\n",
       "      <td>[000-020-372-597-177, 000-831-481-070-875, 002...</td>\n",
       "      <td>3.0</td>\n",
       "      <td>True</td>\n",
       "      <td>[{'lens_id': '109-733-766-615-414'}, {'lens_id...</td>\n",
       "      <td>2.0</td>\n",
       "      <td>[comparative study, research support, non-u.s....</td>\n",
       "      <td>[{'mesh_heading': 'Adenosine Diphosphate', 'qu...</td>\n",
       "      <td>[{'substance_name': 'Lactates', 'registry_numb...</td>\n",
       "      <td>[{'org': 'NIGMS NIH HHS', 'funding_id': 'GM288...</td>\n",
       "      <td>NaN</td>\n",
       "    </tr>\n",
       "    <tr>\n",
       "      <th>2</th>\n",
       "      <td>001-410-588-597-790</td>\n",
       "      <td>Role of tunable acid catalysis in decompositio...</td>\n",
       "      <td>journal article</td>\n",
       "      <td>2014.0</td>\n",
       "      <td>2014-10-02T00:00:00.000000+00:00</td>\n",
       "      <td>[2014, 10, 2]</td>\n",
       "      <td>2018-05-12T02:36:30.230000+00:00</td>\n",
       "      <td>[{'type': 'pmid', 'value': '25234427'}, {'type...</td>\n",
       "      <td>{'colour': 'green'}</td>\n",
       "      <td>[{'first_name': 'Manoj', 'last_name': 'Kumar',...</td>\n",
       "      <td>...</td>\n",
       "      <td>[002-141-861-880-954, 002-637-810-201-332, 005...</td>\n",
       "      <td>4.0</td>\n",
       "      <td>True</td>\n",
       "      <td>NaN</td>\n",
       "      <td>NaN</td>\n",
       "      <td>[research support, u.s. gov't, non-p.h.s.]</td>\n",
       "      <td>[{'mesh_heading': 'Aldehydes', 'qualifier_name...</td>\n",
       "      <td>[{'substance_name': 'Aldehydes', 'registry_num...</td>\n",
       "      <td>[{'org': 'National Institute of Food and Agric...</td>\n",
       "      <td>NaN</td>\n",
       "    </tr>\n",
       "    <tr>\n",
       "      <th>3</th>\n",
       "      <td>002-641-540-376-854</td>\n",
       "      <td>Recent advances in the Pd-catalyzed carboxylat...</td>\n",
       "      <td>journal article</td>\n",
       "      <td>2020.0</td>\n",
       "      <td>2020-07-13T00:00:00.000000+00:00</td>\n",
       "      <td>[2020, 7, 13]</td>\n",
       "      <td>2021-03-19T16:46:44.345000+00:00</td>\n",
       "      <td>[{'type': 'magid', 'value': '3138078936'}, {'t...</td>\n",
       "      <td>{'colour': 'bronze'}</td>\n",
       "      <td>[{'first_name': 'Wenfang', 'last_name': 'Xiong...</td>\n",
       "      <td>...</td>\n",
       "      <td>[167-147-285-931-792]</td>\n",
       "      <td>3.0</td>\n",
       "      <td>True</td>\n",
       "      <td>NaN</td>\n",
       "      <td>NaN</td>\n",
       "      <td>NaN</td>\n",
       "      <td>NaN</td>\n",
       "      <td>NaN</td>\n",
       "      <td>NaN</td>\n",
       "      <td>NaN</td>\n",
       "    </tr>\n",
       "    <tr>\n",
       "      <th>4</th>\n",
       "      <td>003-065-746-965-463</td>\n",
       "      <td>Iterative catalyst controlled diastereodiverge...</td>\n",
       "      <td>journal article</td>\n",
       "      <td>2016.0</td>\n",
       "      <td>NaN</td>\n",
       "      <td>[2016]</td>\n",
       "      <td>2018-05-12T06:02:51.938000+00:00</td>\n",
       "      <td>[{'type': 'magid', 'value': '2463085273'}, {'t...</td>\n",
       "      <td>{'colour': 'green'}</td>\n",
       "      <td>[{'first_name': 'Diederik', 'last_name': 'Roke...</td>\n",
       "      <td>...</td>\n",
       "      <td>[012-548-425-699-03X, 064-473-844-677-559, 114...</td>\n",
       "      <td>3.0</td>\n",
       "      <td>True</td>\n",
       "      <td>NaN</td>\n",
       "      <td>NaN</td>\n",
       "      <td>NaN</td>\n",
       "      <td>NaN</td>\n",
       "      <td>NaN</td>\n",
       "      <td>NaN</td>\n",
       "      <td>NaN</td>\n",
       "    </tr>\n",
       "  </tbody>\n",
       "</table>\n",
       "<p>5 rows × 32 columns</p>\n",
       "</div>"
      ],
      "text/plain": [
       "               lens_id                                              title  \\\n",
       "0  001-085-590-248-665  Theoretical Studies on the Addition Reactions ...   \n",
       "1  001-337-217-179-970  Adenylate Kinase-catalyzed Phosphoryl Transfer...   \n",
       "2  001-410-588-597-790  Role of tunable acid catalysis in decompositio...   \n",
       "3  002-641-540-376-854  Recent advances in the Pd-catalyzed carboxylat...   \n",
       "4  003-065-746-965-463  Iterative catalyst controlled diastereodiverge...   \n",
       "\n",
       "  publication_type  year_published                    date_published  \\\n",
       "0  journal article          2008.0  2008-07-20T00:00:00.000000+00:00   \n",
       "1  journal article          1995.0  1995-03-31T00:00:00.000000+00:00   \n",
       "2  journal article          2014.0  2014-10-02T00:00:00.000000+00:00   \n",
       "3  journal article          2020.0  2020-07-13T00:00:00.000000+00:00   \n",
       "4  journal article          2016.0                               NaN   \n",
       "\n",
       "  date_published_parts                           created  \\\n",
       "0        [2008, 7, 20]  2018-05-11T20:33:24.230000+00:00   \n",
       "1        [1995, 3, 31]  2018-05-08T19:55:24.404000+00:00   \n",
       "2        [2014, 10, 2]  2018-05-12T02:36:30.230000+00:00   \n",
       "3        [2020, 7, 13]  2021-03-19T16:46:44.345000+00:00   \n",
       "4               [2016]  2018-05-12T06:02:51.938000+00:00   \n",
       "\n",
       "                                        external_ids  \\\n",
       "0  [{'type': 'magid', 'value': '2100529744'}, {'t...   \n",
       "1  [{'type': 'magid', 'value': '2069998681'}, {'t...   \n",
       "2  [{'type': 'pmid', 'value': '25234427'}, {'type...   \n",
       "3  [{'type': 'magid', 'value': '3138078936'}, {'t...   \n",
       "4  [{'type': 'magid', 'value': '2463085273'}, {'t...   \n",
       "\n",
       "                                         open_access  \\\n",
       "0                               {'colour': 'bronze'}   \n",
       "1  {'license': 'CC BY, CC BY-NC-ND', 'colour': 'g...   \n",
       "2                                {'colour': 'green'}   \n",
       "3                               {'colour': 'bronze'}   \n",
       "4                                {'colour': 'green'}   \n",
       "\n",
       "                                             authors  ...  \\\n",
       "0  [{'first_name': 'Chang Kon', 'last_name': 'Kim...  ...   \n",
       "1  [{'first_name': 'Robert J.', 'last_name': 'Zel...  ...   \n",
       "2  [{'first_name': 'Manoj', 'last_name': 'Kumar',...  ...   \n",
       "3  [{'first_name': 'Wenfang', 'last_name': 'Xiong...  ...   \n",
       "4  [{'first_name': 'Diederik', 'last_name': 'Roke...  ...   \n",
       "\n",
       "                                 scholarly_citations author_count  \\\n",
       "0  [032-363-097-009-822, 033-768-753-171-206, 073...          6.0   \n",
       "1  [000-020-372-597-177, 000-831-481-070-875, 002...          3.0   \n",
       "2  [002-141-861-880-954, 002-637-810-201-332, 005...          4.0   \n",
       "3                              [167-147-285-931-792]          3.0   \n",
       "4  [012-548-425-699-03X, 064-473-844-677-559, 114...          3.0   \n",
       "\n",
       "  is_open_access                                   patent_citations  \\\n",
       "0           True                                                NaN   \n",
       "1           True  [{'lens_id': '109-733-766-615-414'}, {'lens_id...   \n",
       "2           True                                                NaN   \n",
       "3           True                                                NaN   \n",
       "4           True                                                NaN   \n",
       "\n",
       "  patent_citations_count                     publication_supplementary_type  \\\n",
       "0                    NaN                                                NaN   \n",
       "1                    2.0  [comparative study, research support, non-u.s....   \n",
       "2                    NaN         [research support, u.s. gov't, non-p.h.s.]   \n",
       "3                    NaN                                                NaN   \n",
       "4                    NaN                                                NaN   \n",
       "\n",
       "                                          mesh_terms  \\\n",
       "0                                                NaN   \n",
       "1  [{'mesh_heading': 'Adenosine Diphosphate', 'qu...   \n",
       "2  [{'mesh_heading': 'Aldehydes', 'qualifier_name...   \n",
       "3                                                NaN   \n",
       "4                                                NaN   \n",
       "\n",
       "                                           chemicals  \\\n",
       "0                                                NaN   \n",
       "1  [{'substance_name': 'Lactates', 'registry_numb...   \n",
       "2  [{'substance_name': 'Aldehydes', 'registry_num...   \n",
       "3                                                NaN   \n",
       "4                                                NaN   \n",
       "\n",
       "                                             funding  keywords  \n",
       "0                                                NaN       NaN  \n",
       "1  [{'org': 'NIGMS NIH HHS', 'funding_id': 'GM288...       NaN  \n",
       "2  [{'org': 'National Institute of Food and Agric...       NaN  \n",
       "3                                                NaN       NaN  \n",
       "4                                                NaN       NaN  \n",
       "\n",
       "[5 rows x 32 columns]"
      ]
     },
     "execution_count": 23,
     "metadata": {},
     "output_type": "execute_result"
    }
   ],
   "source": [
    "df.head()"
   ]
  },
  {
   "attachments": {},
   "cell_type": "markdown",
   "metadata": {},
   "source": [
    "After the query we can see all the fields in our dataframe."
   ]
  },
  {
   "cell_type": "code",
   "execution_count": 24,
   "metadata": {},
   "outputs": [
    {
     "data": {
      "text/plain": [
       "Index(['lens_id', 'title', 'publication_type', 'year_published',\n",
       "       'date_published', 'date_published_parts', 'created', 'external_ids',\n",
       "       'open_access', 'authors', 'source', 'fields_of_study', 'volume',\n",
       "       'issue', 'languages', 'references', 'source_urls', 'abstract',\n",
       "       'references_count', 'scholarly_citations_count', 'start_page',\n",
       "       'end_page', 'scholarly_citations', 'author_count', 'is_open_access',\n",
       "       'patent_citations', 'patent_citations_count',\n",
       "       'publication_supplementary_type', 'mesh_terms', 'chemicals', 'funding',\n",
       "       'keywords'],\n",
       "      dtype='object')"
      ]
     },
     "execution_count": 24,
     "metadata": {},
     "output_type": "execute_result"
    }
   ],
   "source": [
    "df.columns"
   ]
  },
  {
   "attachments": {},
   "cell_type": "markdown",
   "metadata": {},
   "source": [
    "We can also check the data types:"
   ]
  },
  {
   "cell_type": "code",
   "execution_count": 25,
   "metadata": {},
   "outputs": [
    {
     "data": {
      "text/plain": [
       "lens_id                            object\n",
       "title                              object\n",
       "publication_type                   object\n",
       "year_published                    float64\n",
       "date_published                     object\n",
       "date_published_parts               object\n",
       "created                            object\n",
       "external_ids                       object\n",
       "open_access                        object\n",
       "authors                            object\n",
       "source                             object\n",
       "fields_of_study                    object\n",
       "volume                             object\n",
       "issue                              object\n",
       "languages                          object\n",
       "references                         object\n",
       "source_urls                        object\n",
       "abstract                           object\n",
       "references_count                  float64\n",
       "scholarly_citations_count         float64\n",
       "start_page                         object\n",
       "end_page                           object\n",
       "scholarly_citations                object\n",
       "author_count                      float64\n",
       "is_open_access                       bool\n",
       "patent_citations                   object\n",
       "patent_citations_count            float64\n",
       "publication_supplementary_type     object\n",
       "mesh_terms                         object\n",
       "chemicals                          object\n",
       "funding                            object\n",
       "keywords                           object\n",
       "dtype: object"
      ]
     },
     "execution_count": 25,
     "metadata": {},
     "output_type": "execute_result"
    }
   ],
   "source": [
    "df.dtypes"
   ]
  },
  {
   "attachments": {},
   "cell_type": "markdown",
   "metadata": {},
   "source": [
    "Next we select the fields \"lens_id, title, year_published, patent_citations_count, and funding\" from rows that are artcles with more than one patent:"
   ]
  },
  {
   "cell_type": "code",
   "execution_count": 26,
   "metadata": {},
   "outputs": [
    {
     "data": {
      "text/html": [
       "<div>\n",
       "<style scoped>\n",
       "    .dataframe tbody tr th:only-of-type {\n",
       "        vertical-align: middle;\n",
       "    }\n",
       "\n",
       "    .dataframe tbody tr th {\n",
       "        vertical-align: top;\n",
       "    }\n",
       "\n",
       "    .dataframe thead th {\n",
       "        text-align: right;\n",
       "    }\n",
       "</style>\n",
       "<table border=\"1\" class=\"dataframe\">\n",
       "  <thead>\n",
       "    <tr style=\"text-align: right;\">\n",
       "      <th></th>\n",
       "      <th>lens_id</th>\n",
       "      <th>title</th>\n",
       "      <th>year_published</th>\n",
       "      <th>patent_citations_count</th>\n",
       "      <th>funding</th>\n",
       "    </tr>\n",
       "  </thead>\n",
       "  <tbody>\n",
       "    <tr>\n",
       "      <th>1</th>\n",
       "      <td>001-337-217-179-970</td>\n",
       "      <td>Adenylate Kinase-catalyzed Phosphoryl Transfer...</td>\n",
       "      <td>1995.0</td>\n",
       "      <td>2.0</td>\n",
       "      <td>[{'org': 'NIGMS NIH HHS', 'funding_id': 'GM288...</td>\n",
       "    </tr>\n",
       "    <tr>\n",
       "      <th>12</th>\n",
       "      <td>010-541-176-962-524</td>\n",
       "      <td>RNA-Catalyzed RNA Ligation on an External RNA ...</td>\n",
       "      <td>2002.0</td>\n",
       "      <td>1.0</td>\n",
       "      <td>NaN</td>\n",
       "    </tr>\n",
       "    <tr>\n",
       "      <th>17</th>\n",
       "      <td>017-062-754-335-845</td>\n",
       "      <td>Electrochemical direct detection of DNA deamin...</td>\n",
       "      <td>2012.0</td>\n",
       "      <td>1.0</td>\n",
       "      <td>[{'org': 'NIAID NIH HHS', 'funding_id': 'R33 A...</td>\n",
       "    </tr>\n",
       "    <tr>\n",
       "      <th>19</th>\n",
       "      <td>020-834-558-070-750</td>\n",
       "      <td>Reconstitution of membrane fusion between panc...</td>\n",
       "      <td>1998.0</td>\n",
       "      <td>1.0</td>\n",
       "      <td>[{'org': 'NHLBI NIH HHS', 'funding_id': '1 PO1...</td>\n",
       "    </tr>\n",
       "    <tr>\n",
       "      <th>22</th>\n",
       "      <td>023-073-176-866-61X</td>\n",
       "      <td>Ribozymes: aiming at RNA replication and prote...</td>\n",
       "      <td>1996.0</td>\n",
       "      <td>4.0</td>\n",
       "      <td>NaN</td>\n",
       "    </tr>\n",
       "    <tr>\n",
       "      <th>27</th>\n",
       "      <td>028-980-751-226-530</td>\n",
       "      <td>The application of monodentate secondary phosp...</td>\n",
       "      <td>2004.0</td>\n",
       "      <td>4.0</td>\n",
       "      <td>NaN</td>\n",
       "    </tr>\n",
       "    <tr>\n",
       "      <th>28</th>\n",
       "      <td>030-045-709-733-074</td>\n",
       "      <td>Presence of a classical RRM-fold palm domain i...</td>\n",
       "      <td>2010.0</td>\n",
       "      <td>1.0</td>\n",
       "      <td>NaN</td>\n",
       "    </tr>\n",
       "    <tr>\n",
       "      <th>35</th>\n",
       "      <td>036-141-309-364-01X</td>\n",
       "      <td>Palladium- and Nickel-Catalyzed Amination of A...</td>\n",
       "      <td>2016.0</td>\n",
       "      <td>1.0</td>\n",
       "      <td>NaN</td>\n",
       "    </tr>\n",
       "    <tr>\n",
       "      <th>38</th>\n",
       "      <td>041-288-312-654-314</td>\n",
       "      <td>Recent advances in mechanistic studies on Ni c...</td>\n",
       "      <td>2015.0</td>\n",
       "      <td>1.0</td>\n",
       "      <td>NaN</td>\n",
       "    </tr>\n",
       "    <tr>\n",
       "      <th>39</th>\n",
       "      <td>041-962-431-014-784</td>\n",
       "      <td>Stereospecific Hydration of the Δ9 Double Bond...</td>\n",
       "      <td>1970.0</td>\n",
       "      <td>2.0</td>\n",
       "      <td>NaN</td>\n",
       "    </tr>\n",
       "    <tr>\n",
       "      <th>45</th>\n",
       "      <td>049-413-113-364-470</td>\n",
       "      <td>Functional diversity of 2-oxoglutarate/Fe(II)-...</td>\n",
       "      <td>2014.0</td>\n",
       "      <td>1.0</td>\n",
       "      <td>NaN</td>\n",
       "    </tr>\n",
       "    <tr>\n",
       "      <th>54</th>\n",
       "      <td>056-633-621-019-831</td>\n",
       "      <td>Antibody catalysis of peptidyl-prolyl cis-tran...</td>\n",
       "      <td>1998.0</td>\n",
       "      <td>3.0</td>\n",
       "      <td>NaN</td>\n",
       "    </tr>\n",
       "    <tr>\n",
       "      <th>66</th>\n",
       "      <td>079-088-210-540-837</td>\n",
       "      <td>C-H Activation - C-H activation.</td>\n",
       "      <td>2010.0</td>\n",
       "      <td>1.0</td>\n",
       "      <td>NaN</td>\n",
       "    </tr>\n",
       "    <tr>\n",
       "      <th>73</th>\n",
       "      <td>093-805-105-794-882</td>\n",
       "      <td>H2 as a fuel for flavin- and H2O2-dependent bi...</td>\n",
       "      <td>2020.0</td>\n",
       "      <td>1.0</td>\n",
       "      <td>[{'org': 'Deutsche Forschungsgemeinschaft'}, {...</td>\n",
       "    </tr>\n",
       "    <tr>\n",
       "      <th>74</th>\n",
       "      <td>096-584-752-754-177</td>\n",
       "      <td>Recent Development in Chemical Depolymerizatio...</td>\n",
       "      <td>2013.0</td>\n",
       "      <td>4.0</td>\n",
       "      <td>[{'org': 'National Renewable Energy Laboratory'}]</td>\n",
       "    </tr>\n",
       "    <tr>\n",
       "      <th>75</th>\n",
       "      <td>098-364-737-786-777</td>\n",
       "      <td>Harnessing C−H Borylation/Deborylation for Sel...</td>\n",
       "      <td>2015.0</td>\n",
       "      <td>1.0</td>\n",
       "      <td>[{'org': 'NIGMS NIH HHS', 'funding_id': 'R01 G...</td>\n",
       "    </tr>\n",
       "    <tr>\n",
       "      <th>91</th>\n",
       "      <td>129-655-546-030-494</td>\n",
       "      <td>Catalyst‐Controlled Chemoselective Arylation o...</td>\n",
       "      <td>2012.0</td>\n",
       "      <td>4.0</td>\n",
       "      <td>[{'org': 'NIGMS NIH HHS', 'funding_id': 'R01 G...</td>\n",
       "    </tr>\n",
       "    <tr>\n",
       "      <th>93</th>\n",
       "      <td>137-909-909-260-000</td>\n",
       "      <td>Structural characteristics of carbon nanofiber...</td>\n",
       "      <td>2005.0</td>\n",
       "      <td>1.0</td>\n",
       "      <td>NaN</td>\n",
       "    </tr>\n",
       "  </tbody>\n",
       "</table>\n",
       "</div>"
      ],
      "text/plain": [
       "                lens_id                                              title  \\\n",
       "1   001-337-217-179-970  Adenylate Kinase-catalyzed Phosphoryl Transfer...   \n",
       "12  010-541-176-962-524  RNA-Catalyzed RNA Ligation on an External RNA ...   \n",
       "17  017-062-754-335-845  Electrochemical direct detection of DNA deamin...   \n",
       "19  020-834-558-070-750  Reconstitution of membrane fusion between panc...   \n",
       "22  023-073-176-866-61X  Ribozymes: aiming at RNA replication and prote...   \n",
       "27  028-980-751-226-530  The application of monodentate secondary phosp...   \n",
       "28  030-045-709-733-074  Presence of a classical RRM-fold palm domain i...   \n",
       "35  036-141-309-364-01X  Palladium- and Nickel-Catalyzed Amination of A...   \n",
       "38  041-288-312-654-314  Recent advances in mechanistic studies on Ni c...   \n",
       "39  041-962-431-014-784  Stereospecific Hydration of the Δ9 Double Bond...   \n",
       "45  049-413-113-364-470  Functional diversity of 2-oxoglutarate/Fe(II)-...   \n",
       "54  056-633-621-019-831  Antibody catalysis of peptidyl-prolyl cis-tran...   \n",
       "66  079-088-210-540-837                   C-H Activation - C-H activation.   \n",
       "73  093-805-105-794-882  H2 as a fuel for flavin- and H2O2-dependent bi...   \n",
       "74  096-584-752-754-177  Recent Development in Chemical Depolymerizatio...   \n",
       "75  098-364-737-786-777  Harnessing C−H Borylation/Deborylation for Sel...   \n",
       "91  129-655-546-030-494  Catalyst‐Controlled Chemoselective Arylation o...   \n",
       "93  137-909-909-260-000  Structural characteristics of carbon nanofiber...   \n",
       "\n",
       "    year_published  patent_citations_count  \\\n",
       "1           1995.0                     2.0   \n",
       "12          2002.0                     1.0   \n",
       "17          2012.0                     1.0   \n",
       "19          1998.0                     1.0   \n",
       "22          1996.0                     4.0   \n",
       "27          2004.0                     4.0   \n",
       "28          2010.0                     1.0   \n",
       "35          2016.0                     1.0   \n",
       "38          2015.0                     1.0   \n",
       "39          1970.0                     2.0   \n",
       "45          2014.0                     1.0   \n",
       "54          1998.0                     3.0   \n",
       "66          2010.0                     1.0   \n",
       "73          2020.0                     1.0   \n",
       "74          2013.0                     4.0   \n",
       "75          2015.0                     1.0   \n",
       "91          2012.0                     4.0   \n",
       "93          2005.0                     1.0   \n",
       "\n",
       "                                              funding  \n",
       "1   [{'org': 'NIGMS NIH HHS', 'funding_id': 'GM288...  \n",
       "12                                                NaN  \n",
       "17  [{'org': 'NIAID NIH HHS', 'funding_id': 'R33 A...  \n",
       "19  [{'org': 'NHLBI NIH HHS', 'funding_id': '1 PO1...  \n",
       "22                                                NaN  \n",
       "27                                                NaN  \n",
       "28                                                NaN  \n",
       "35                                                NaN  \n",
       "38                                                NaN  \n",
       "39                                                NaN  \n",
       "45                                                NaN  \n",
       "54                                                NaN  \n",
       "66                                                NaN  \n",
       "73  [{'org': 'Deutsche Forschungsgemeinschaft'}, {...  \n",
       "74  [{'org': 'National Renewable Energy Laboratory'}]  \n",
       "75  [{'org': 'NIGMS NIH HHS', 'funding_id': 'R01 G...  \n",
       "91  [{'org': 'NIGMS NIH HHS', 'funding_id': 'R01 G...  \n",
       "93                                                NaN  "
      ]
     },
     "execution_count": 26,
     "metadata": {},
     "output_type": "execute_result"
    }
   ],
   "source": [
    "df_journals_patent = df.loc[\n",
    "    (df['publication_type'] == \"journal article\") & \n",
    "    (df['patent_citations_count'] >= 1),\n",
    "    ['lens_id', 'title', 'year_published','patent_citations_count', 'funding']\n",
    "]\n",
    "df_journals_patent"
   ]
  },
  {
   "attachments": {},
   "cell_type": "markdown",
   "metadata": {},
   "source": [
    "We want to remote the rows with missing funding item"
   ]
  },
  {
   "cell_type": "code",
   "execution_count": 27,
   "metadata": {},
   "outputs": [
    {
     "data": {
      "text/html": [
       "<div>\n",
       "<style scoped>\n",
       "    .dataframe tbody tr th:only-of-type {\n",
       "        vertical-align: middle;\n",
       "    }\n",
       "\n",
       "    .dataframe tbody tr th {\n",
       "        vertical-align: top;\n",
       "    }\n",
       "\n",
       "    .dataframe thead th {\n",
       "        text-align: right;\n",
       "    }\n",
       "</style>\n",
       "<table border=\"1\" class=\"dataframe\">\n",
       "  <thead>\n",
       "    <tr style=\"text-align: right;\">\n",
       "      <th></th>\n",
       "      <th>lens_id</th>\n",
       "      <th>title</th>\n",
       "      <th>year_published</th>\n",
       "      <th>patent_citations_count</th>\n",
       "      <th>funding</th>\n",
       "    </tr>\n",
       "  </thead>\n",
       "  <tbody>\n",
       "    <tr>\n",
       "      <th>1</th>\n",
       "      <td>001-337-217-179-970</td>\n",
       "      <td>Adenylate Kinase-catalyzed Phosphoryl Transfer...</td>\n",
       "      <td>1995.0</td>\n",
       "      <td>2.0</td>\n",
       "      <td>[{'org': 'NIGMS NIH HHS', 'funding_id': 'GM288...</td>\n",
       "    </tr>\n",
       "    <tr>\n",
       "      <th>17</th>\n",
       "      <td>017-062-754-335-845</td>\n",
       "      <td>Electrochemical direct detection of DNA deamin...</td>\n",
       "      <td>2012.0</td>\n",
       "      <td>1.0</td>\n",
       "      <td>[{'org': 'NIAID NIH HHS', 'funding_id': 'R33 A...</td>\n",
       "    </tr>\n",
       "    <tr>\n",
       "      <th>19</th>\n",
       "      <td>020-834-558-070-750</td>\n",
       "      <td>Reconstitution of membrane fusion between panc...</td>\n",
       "      <td>1998.0</td>\n",
       "      <td>1.0</td>\n",
       "      <td>[{'org': 'NHLBI NIH HHS', 'funding_id': '1 PO1...</td>\n",
       "    </tr>\n",
       "    <tr>\n",
       "      <th>73</th>\n",
       "      <td>093-805-105-794-882</td>\n",
       "      <td>H2 as a fuel for flavin- and H2O2-dependent bi...</td>\n",
       "      <td>2020.0</td>\n",
       "      <td>1.0</td>\n",
       "      <td>[{'org': 'Deutsche Forschungsgemeinschaft'}, {...</td>\n",
       "    </tr>\n",
       "    <tr>\n",
       "      <th>74</th>\n",
       "      <td>096-584-752-754-177</td>\n",
       "      <td>Recent Development in Chemical Depolymerizatio...</td>\n",
       "      <td>2013.0</td>\n",
       "      <td>4.0</td>\n",
       "      <td>[{'org': 'National Renewable Energy Laboratory'}]</td>\n",
       "    </tr>\n",
       "    <tr>\n",
       "      <th>75</th>\n",
       "      <td>098-364-737-786-777</td>\n",
       "      <td>Harnessing C−H Borylation/Deborylation for Sel...</td>\n",
       "      <td>2015.0</td>\n",
       "      <td>1.0</td>\n",
       "      <td>[{'org': 'NIGMS NIH HHS', 'funding_id': 'R01 G...</td>\n",
       "    </tr>\n",
       "    <tr>\n",
       "      <th>91</th>\n",
       "      <td>129-655-546-030-494</td>\n",
       "      <td>Catalyst‐Controlled Chemoselective Arylation o...</td>\n",
       "      <td>2012.0</td>\n",
       "      <td>4.0</td>\n",
       "      <td>[{'org': 'NIGMS NIH HHS', 'funding_id': 'R01 G...</td>\n",
       "    </tr>\n",
       "  </tbody>\n",
       "</table>\n",
       "</div>"
      ],
      "text/plain": [
       "                lens_id                                              title  \\\n",
       "1   001-337-217-179-970  Adenylate Kinase-catalyzed Phosphoryl Transfer...   \n",
       "17  017-062-754-335-845  Electrochemical direct detection of DNA deamin...   \n",
       "19  020-834-558-070-750  Reconstitution of membrane fusion between panc...   \n",
       "73  093-805-105-794-882  H2 as a fuel for flavin- and H2O2-dependent bi...   \n",
       "74  096-584-752-754-177  Recent Development in Chemical Depolymerizatio...   \n",
       "75  098-364-737-786-777  Harnessing C−H Borylation/Deborylation for Sel...   \n",
       "91  129-655-546-030-494  Catalyst‐Controlled Chemoselective Arylation o...   \n",
       "\n",
       "    year_published  patent_citations_count  \\\n",
       "1           1995.0                     2.0   \n",
       "17          2012.0                     1.0   \n",
       "19          1998.0                     1.0   \n",
       "73          2020.0                     1.0   \n",
       "74          2013.0                     4.0   \n",
       "75          2015.0                     1.0   \n",
       "91          2012.0                     4.0   \n",
       "\n",
       "                                              funding  \n",
       "1   [{'org': 'NIGMS NIH HHS', 'funding_id': 'GM288...  \n",
       "17  [{'org': 'NIAID NIH HHS', 'funding_id': 'R33 A...  \n",
       "19  [{'org': 'NHLBI NIH HHS', 'funding_id': '1 PO1...  \n",
       "73  [{'org': 'Deutsche Forschungsgemeinschaft'}, {...  \n",
       "74  [{'org': 'National Renewable Energy Laboratory'}]  \n",
       "75  [{'org': 'NIGMS NIH HHS', 'funding_id': 'R01 G...  \n",
       "91  [{'org': 'NIGMS NIH HHS', 'funding_id': 'R01 G...  "
      ]
     },
     "execution_count": 27,
     "metadata": {},
     "output_type": "execute_result"
    }
   ],
   "source": [
    "df_journals_patent = df.loc[\n",
    "    (df['publication_type'] == \"journal article\") & \n",
    "    (df['patent_citations_count'] >= 1) &\n",
    "    (df['funding'].notna()),\n",
    "    ['lens_id', 'title', 'year_published','patent_citations_count', 'funding']\n",
    "]\n",
    "df_journals_patent"
   ]
  },
  {
   "attachments": {},
   "cell_type": "markdown",
   "metadata": {},
   "source": [
    "It's possible to save the dataframe in \\LaTeX format. Probably will require some adjustments, but it can be helpful. You will need to add the package `booktabs` to your document."
   ]
  },
  {
   "cell_type": "code",
   "execution_count": 28,
   "metadata": {},
   "outputs": [
    {
     "name": "stderr",
     "output_type": "stream",
     "text": [
      "C:\\Users\\garcm0b\\AppData\\Local\\Temp\\ipykernel_19872\\232706593.py:1: FutureWarning: In future versions `DataFrame.to_latex` is expected to utilise the base implementation of `Styler.to_latex` for formatting and rendering. The arguments signature may therefore change. It is recommended instead to use `DataFrame.style.to_latex` which also contains additional functionality.\n",
      "  df_journals_patent.to_latex('journals_patent.tex', index=False, columns=['title', 'year_published', 'patent_citations_count', 'funding'])\n"
     ]
    }
   ],
   "source": [
    "df_journals_patent.to_latex('journals_patent.tex', index=False, columns=['title', 'year_published', 'patent_citations_count', 'funding'])"
   ]
  },
  {
   "cell_type": "code",
   "execution_count": null,
   "metadata": {},
   "outputs": [],
   "source": []
  }
 ],
 "metadata": {
  "kernelspec": {
   "display_name": "Python 3 (ipykernel)",
   "language": "python",
   "name": "python3"
  },
  "language_info": {
   "codemirror_mode": {
    "name": "ipython",
    "version": 3
   },
   "file_extension": ".py",
   "mimetype": "text/x-python",
   "name": "python",
   "nbconvert_exporter": "python",
   "pygments_lexer": "ipython3",
   "version": "3.10.9"
  }
 },
 "nbformat": 4,
 "nbformat_minor": 4
}
